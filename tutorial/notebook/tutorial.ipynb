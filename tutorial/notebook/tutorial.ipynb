{
 "metadata": {
  "language_info": {
   "codemirror_mode": {
    "name": "ipython",
    "version": 3
   },
   "file_extension": ".py",
   "mimetype": "text/x-python",
   "name": "python",
   "nbconvert_exporter": "python",
   "pygments_lexer": "ipython3",
   "version": "3.7.8-final"
  },
  "orig_nbformat": 2,
  "kernelspec": {
   "name": "science3",
   "display_name": "science3",
   "language": "python"
  }
 },
 "nbformat": 4,
 "nbformat_minor": 2,
 "cells": [
  {
   "cell_type": "code",
   "execution_count": 1,
   "metadata": {},
   "outputs": [
    {
     "output_type": "stream",
     "name": "stdout",
     "text": [
      "ice to meet you.\n"
     ]
    }
   ],
   "source": [
    "import pandas as pd\n",
    "import os\n",
    "import datetime\n",
    "sys.path.append('C:\\\\Users\\\\trueblood\\\\projects\\\\pyce_tools')\n",
    "import pyce_tools.pyce_tools as pt"
   ]
  },
  {
   "source": [
    "Introduction to the tutorial."
   ],
   "cell_type": "markdown",
   "metadata": {}
  },
  {
   "cell_type": "code",
   "execution_count": null,
   "metadata": {},
   "outputs": [],
   "source": [
    "# Pre-processing of INP Data"
   ]
  },
  {
   "cell_type": "code",
   "execution_count": null,
   "metadata": {},
   "outputs": [],
   "source": [
    "# Raw Data Calculation"
   ]
  },
  {
   "cell_type": "code",
   "execution_count": 4,
   "metadata": {},
   "outputs": [
    {
     "output_type": "stream",
     "name": "stdout",
     "text": [
      "...Raw blank data calculated!\n"
     ]
    }
   ],
   "source": [
    "# Create blank file\n",
    "issues = None\n",
    "type_ = 'aerosol'\n",
    "process = 'uf'\n",
    "collection_date = '06042020 '\n",
    "sample_name = 'Bubbler 3 stage BLANK pc'\n",
    "analysis_date = '01/01/21'\n",
    "num_tubes = 26\n",
    "vol_tube = 0.2\n",
    "rinse_vol = 20\n",
    "size = 'sub'\n",
    "location = 'bubbler'\n",
    "raw = pt.calculate_raw_blank(type_, process, location, sample_name, collection_date,\n",
    "                  analysis_date, issues, num_tubes, vol_tube, rinse_vol, size)"
   ]
  },
  {
   "cell_type": "code",
   "execution_count": 6,
   "metadata": {},
   "outputs": [
    {
     "output_type": "stream",
     "name": "stdout",
     "text": [
      "...IN data calculated!\nCalculated report file saved to ..\\data\\interim\\IN\\calculated\\aerosol\\bubbler\\aerosol_bubbler_uf_sub_170320_1125_calculated.xlsx.\n"
     ]
    }
   ],
   "source": [
    "# Calculate aerosol sample\n",
    "issues = None\n",
    "blank_source = '..\\\\data\\\\interim\\\\IN\\\\calculated\\\\blank\\\\bubbler_blank_uf_sub_060420_calculated.xlsx'\n",
    "type_ = 'aerosol'\n",
    "size = 'sub'\n",
    "location = 'bubbler'\n",
    "process = 'uf'\n",
    "sample_name = 'Day 01 bubbler 3 stage PC'\n",
    "collection_date = '17032020 11h25'\n",
    "sample_stop_time = '18032020 09h45'\n",
    "analysis_date = '01/01/2021'\n",
    "num_tubes = 26\n",
    "vol_tube = 0.2\n",
    "flow_start = 10.50\n",
    "flow_stop = 9.35\n",
    "rinse_vol = 20\n",
    "\n",
    "raw = pt.calculate_raw(blank_source, type_, location, process, sample_name, collection_date, analysis_date, issues, num_tubes, vol_tube, rinse_vol, size, flow_start, flow_stop, sample_stop_time)"
   ]
  },
  {
   "source": [
    "Running the above code will create a calculated report file in which the blank corrected values are given. Take a minute to open the report file now (file path is given above) and have a look yourself. Also be sure to check the tubeholderfilling tab which gives an overview of all the cells. You should compare this with the final image from the LINDA to ensure the automated process correctly identified frozen vs nonfrozen cells.\n",
    "\n",
    "Also note a separate tab for heated vs unheated samples is given (e.g., summary_UF_UH and summary_UF_H). The code is written to assume the bottom 26 cells are unheated and the top 26 cells are heated. You can alter this as needed. Each summary tab has calculations for blank corrected concentrations and uncertainty as well as metadata."
   ],
   "cell_type": "markdown",
   "metadata": {}
  },
  {
   "cell_type": "code",
   "execution_count": null,
   "metadata": {},
   "outputs": [],
   "source": [
    "# Create Clean Data"
   ]
  },
  {
   "source": [
    "Cleaning the available calculated report files is as sample as calling clean_calculated_in() function and passing the parameters for INP type and location. The script will automatically find all relevant files in the folder and combine them into a single time series."
   ],
   "cell_type": "markdown",
   "metadata": {}
  },
  {
   "cell_type": "code",
   "execution_count": 12,
   "metadata": {},
   "outputs": [],
   "source": [
    "# Create cleaned files of INP and uncertainty\n",
    "pt.clean_calculated_in('aerosol','bubbler')\n",
    "pt.calculate_wilson_errors('tutorial','bubbler','aerosol')"
   ]
  },
  {
   "cell_type": "code",
   "execution_count": 19,
   "metadata": {},
   "outputs": [],
   "source": [
    "# Load Cleaned Data"
   ]
  },
  {
   "source": [
    "Load the cleaned INP data and uncertainty files. Do a final bit of preprocessing. This is unique to each experiment but give an example below."
   ],
   "cell_type": "markdown",
   "metadata": {}
  },
  {
   "cell_type": "code",
   "execution_count": 13,
   "metadata": {},
   "outputs": [],
   "source": [
    "# Load cleaned data and create time timeseries index in New Zealand Standard Time\n",
    "inp_bubbler = pd.read_csv('..\\\\data\\\\interim\\\\IN\\\\cleaned\\\\combinedtimeseries\\\\aerosol\\\\bubbler_17032020_17032020.csv', index_col='datetime')\n",
    "inp_bubbler.index = pd.to_datetime(inp_bubbler.index, format='%d%m%Y %Hh%M')\n",
    "inp_bubbler= inp_bubbler.tz_localize('NZ')\n",
    "\n",
    "bubbler_error = pd.read_csv('..\\\\data\\\\interim\\\\IN\\\\cleaned\\\\combinedtimeseries\\\\aerosol\\\\bubbler_170320_170320wilson_error.csv', index_col='datetime', parse_dates=True)\n",
    "bubbler_error.index=pd.to_datetime(bubbler_error.index, dayfirst=True, format='%d%m%Y %Hh%M')\n",
    "bubbler_error= bubbler_error.tz_localize('NZ')\n"
   ]
  },
  {
   "cell_type": "code",
   "execution_count": 14,
   "metadata": {},
   "outputs": [
    {
     "output_type": "execute_result",
     "data": {
      "text/plain": [
       "                              -18.0     -17.9     -17.8     -17.7     -17.6  \\\n",
       "datetime                                                                      \n",
       "2020-03-17 11:25:00+13:00  0.007185  0.005814  0.005212  0.003651  0.003651   \n",
       "2020-03-17 11:25:00+13:00       NaN       NaN       NaN       NaN       NaN   \n",
       "\n",
       "                              -17.5     -17.4     -17.3     -17.2     -17.1  \\\n",
       "datetime                                                                      \n",
       "2020-03-17 11:25:00+13:00  0.003651  0.003195  0.003195  0.003195  0.003195   \n",
       "2020-03-17 11:25:00+13:00       NaN       NaN       NaN       NaN       NaN   \n",
       "\n",
       "                           ...  -1.2  -1.1  -1.0      start_date  \\\n",
       "datetime                   ...                                     \n",
       "2020-03-17 11:25:00+13:00  ...   0.0   0.0   0.0  17032020 11h25   \n",
       "2020-03-17 11:25:00+13:00  ...   0.0   0.0   0.0  17032020 11h25   \n",
       "\n",
       "                                 stop_date  size  process     type  location  \\\n",
       "datetime                                                                       \n",
       "2020-03-17 11:25:00+13:00   18032020 09h45   sub       UH  aerosol   bubbler   \n",
       "2020-03-17 11:25:00+13:00   18032020 09h45   sub        H  aerosol   bubbler   \n",
       "\n",
       "                           filtered  \n",
       "datetime                             \n",
       "2020-03-17 11:25:00+13:00        uf  \n",
       "2020-03-17 11:25:00+13:00        uf  \n",
       "\n",
       "[2 rows x 178 columns]"
      ],
      "text/html": "<div>\n<style scoped>\n    .dataframe tbody tr th:only-of-type {\n        vertical-align: middle;\n    }\n\n    .dataframe tbody tr th {\n        vertical-align: top;\n    }\n\n    .dataframe thead th {\n        text-align: right;\n    }\n</style>\n<table border=\"1\" class=\"dataframe\">\n  <thead>\n    <tr style=\"text-align: right;\">\n      <th></th>\n      <th>-18.0</th>\n      <th>-17.9</th>\n      <th>-17.8</th>\n      <th>-17.7</th>\n      <th>-17.6</th>\n      <th>-17.5</th>\n      <th>-17.4</th>\n      <th>-17.3</th>\n      <th>-17.2</th>\n      <th>-17.1</th>\n      <th>...</th>\n      <th>-1.2</th>\n      <th>-1.1</th>\n      <th>-1.0</th>\n      <th>start_date</th>\n      <th>stop_date</th>\n      <th>size</th>\n      <th>process</th>\n      <th>type</th>\n      <th>location</th>\n      <th>filtered</th>\n    </tr>\n    <tr>\n      <th>datetime</th>\n      <th></th>\n      <th></th>\n      <th></th>\n      <th></th>\n      <th></th>\n      <th></th>\n      <th></th>\n      <th></th>\n      <th></th>\n      <th></th>\n      <th></th>\n      <th></th>\n      <th></th>\n      <th></th>\n      <th></th>\n      <th></th>\n      <th></th>\n      <th></th>\n      <th></th>\n      <th></th>\n      <th></th>\n    </tr>\n  </thead>\n  <tbody>\n    <tr>\n      <th>2020-03-17 11:25:00+13:00</th>\n      <td>0.007185</td>\n      <td>0.005814</td>\n      <td>0.005212</td>\n      <td>0.003651</td>\n      <td>0.003651</td>\n      <td>0.003651</td>\n      <td>0.003195</td>\n      <td>0.003195</td>\n      <td>0.003195</td>\n      <td>0.003195</td>\n      <td>...</td>\n      <td>0.0</td>\n      <td>0.0</td>\n      <td>0.0</td>\n      <td>17032020 11h25</td>\n      <td>18032020 09h45</td>\n      <td>sub</td>\n      <td>UH</td>\n      <td>aerosol</td>\n      <td>bubbler</td>\n      <td>uf</td>\n    </tr>\n    <tr>\n      <th>2020-03-17 11:25:00+13:00</th>\n      <td>NaN</td>\n      <td>NaN</td>\n      <td>NaN</td>\n      <td>NaN</td>\n      <td>NaN</td>\n      <td>NaN</td>\n      <td>NaN</td>\n      <td>NaN</td>\n      <td>NaN</td>\n      <td>NaN</td>\n      <td>...</td>\n      <td>0.0</td>\n      <td>0.0</td>\n      <td>0.0</td>\n      <td>17032020 11h25</td>\n      <td>18032020 09h45</td>\n      <td>sub</td>\n      <td>H</td>\n      <td>aerosol</td>\n      <td>bubbler</td>\n      <td>uf</td>\n    </tr>\n  </tbody>\n</table>\n<p>2 rows × 178 columns</p>\n</div>"
     },
     "metadata": {},
     "execution_count": 14
    }
   ],
   "source": [
    "inp_bubbler.head()"
   ]
  },
  {
   "cell_type": "code",
   "execution_count": 15,
   "metadata": {},
   "outputs": [],
   "source": [
    "# Create melted dataframes with INP/m^3\n",
    "inp_bubbler_melt=inp_bubbler.reset_index().melt(id_vars = ['datetime','start_date','stop_date','size','process', 'type','location','filtered'], var_name = 'temp', value_name='inp/l')\n",
    "inp_bubbler_melt['inp/m^3'] = inp_bubbler_melt['inp/l']*1000\n",
    "\n",
    "bubbler_error_melt = pd.melt(bubbler_error.reset_index(), id_vars = ['datetime','time','process','filtered','location','type','value_name', 'size'], var_name = 'temp', value_name='error (inp/l)')\n",
    "bubbler_error_melt=bubbler_error_melt.drop(columns='time')\n",
    "bubbler_error_melt['error (inp/m^3)'] = bubbler_error_melt['error (inp/l)']*1000"
   ]
  },
  {
   "cell_type": "code",
   "execution_count": 16,
   "metadata": {},
   "outputs": [
    {
     "output_type": "execute_result",
     "data": {
      "text/plain": [
       "                     datetime      start_date        stop_date size process  \\\n",
       "0   2020-03-17 11:25:00+13:00  17032020 11h25   18032020 09h45  sub      UH   \n",
       "1   2020-03-17 11:25:00+13:00  17032020 11h25   18032020 09h45  sub       H   \n",
       "2   2020-03-17 11:25:00+13:00  17032020 11h25   18032020 09h45  sub      UH   \n",
       "3   2020-03-17 11:25:00+13:00  17032020 11h25   18032020 09h45  sub       H   \n",
       "4   2020-03-17 11:25:00+13:00  17032020 11h25   18032020 09h45  sub      UH   \n",
       "..                        ...             ...              ...  ...     ...   \n",
       "337 2020-03-17 11:25:00+13:00  17032020 11h25   18032020 09h45  sub       H   \n",
       "338 2020-03-17 11:25:00+13:00  17032020 11h25   18032020 09h45  sub      UH   \n",
       "339 2020-03-17 11:25:00+13:00  17032020 11h25   18032020 09h45  sub       H   \n",
       "340 2020-03-17 11:25:00+13:00  17032020 11h25   18032020 09h45  sub      UH   \n",
       "341 2020-03-17 11:25:00+13:00  17032020 11h25   18032020 09h45  sub       H   \n",
       "\n",
       "        type location filtered   temp     inp/l   inp/m^3  \n",
       "0    aerosol  bubbler       uf  -18.0  0.007185  7.184567  \n",
       "1    aerosol  bubbler       uf  -18.0       NaN       NaN  \n",
       "2    aerosol  bubbler       uf  -17.9  0.005814  5.813676  \n",
       "3    aerosol  bubbler       uf  -17.9       NaN       NaN  \n",
       "4    aerosol  bubbler       uf  -17.8  0.005212  5.211829  \n",
       "..       ...      ...      ...    ...       ...       ...  \n",
       "337  aerosol  bubbler       uf   -1.2  0.000000  0.000000  \n",
       "338  aerosol  bubbler       uf   -1.1  0.000000  0.000000  \n",
       "339  aerosol  bubbler       uf   -1.1  0.000000  0.000000  \n",
       "340  aerosol  bubbler       uf   -1.0  0.000000  0.000000  \n",
       "341  aerosol  bubbler       uf   -1.0  0.000000  0.000000  \n",
       "\n",
       "[342 rows x 11 columns]"
      ],
      "text/html": "<div>\n<style scoped>\n    .dataframe tbody tr th:only-of-type {\n        vertical-align: middle;\n    }\n\n    .dataframe tbody tr th {\n        vertical-align: top;\n    }\n\n    .dataframe thead th {\n        text-align: right;\n    }\n</style>\n<table border=\"1\" class=\"dataframe\">\n  <thead>\n    <tr style=\"text-align: right;\">\n      <th></th>\n      <th>datetime</th>\n      <th>start_date</th>\n      <th>stop_date</th>\n      <th>size</th>\n      <th>process</th>\n      <th>type</th>\n      <th>location</th>\n      <th>filtered</th>\n      <th>temp</th>\n      <th>inp/l</th>\n      <th>inp/m^3</th>\n    </tr>\n  </thead>\n  <tbody>\n    <tr>\n      <th>0</th>\n      <td>2020-03-17 11:25:00+13:00</td>\n      <td>17032020 11h25</td>\n      <td>18032020 09h45</td>\n      <td>sub</td>\n      <td>UH</td>\n      <td>aerosol</td>\n      <td>bubbler</td>\n      <td>uf</td>\n      <td>-18.0</td>\n      <td>0.007185</td>\n      <td>7.184567</td>\n    </tr>\n    <tr>\n      <th>1</th>\n      <td>2020-03-17 11:25:00+13:00</td>\n      <td>17032020 11h25</td>\n      <td>18032020 09h45</td>\n      <td>sub</td>\n      <td>H</td>\n      <td>aerosol</td>\n      <td>bubbler</td>\n      <td>uf</td>\n      <td>-18.0</td>\n      <td>NaN</td>\n      <td>NaN</td>\n    </tr>\n    <tr>\n      <th>2</th>\n      <td>2020-03-17 11:25:00+13:00</td>\n      <td>17032020 11h25</td>\n      <td>18032020 09h45</td>\n      <td>sub</td>\n      <td>UH</td>\n      <td>aerosol</td>\n      <td>bubbler</td>\n      <td>uf</td>\n      <td>-17.9</td>\n      <td>0.005814</td>\n      <td>5.813676</td>\n    </tr>\n    <tr>\n      <th>3</th>\n      <td>2020-03-17 11:25:00+13:00</td>\n      <td>17032020 11h25</td>\n      <td>18032020 09h45</td>\n      <td>sub</td>\n      <td>H</td>\n      <td>aerosol</td>\n      <td>bubbler</td>\n      <td>uf</td>\n      <td>-17.9</td>\n      <td>NaN</td>\n      <td>NaN</td>\n    </tr>\n    <tr>\n      <th>4</th>\n      <td>2020-03-17 11:25:00+13:00</td>\n      <td>17032020 11h25</td>\n      <td>18032020 09h45</td>\n      <td>sub</td>\n      <td>UH</td>\n      <td>aerosol</td>\n      <td>bubbler</td>\n      <td>uf</td>\n      <td>-17.8</td>\n      <td>0.005212</td>\n      <td>5.211829</td>\n    </tr>\n    <tr>\n      <th>...</th>\n      <td>...</td>\n      <td>...</td>\n      <td>...</td>\n      <td>...</td>\n      <td>...</td>\n      <td>...</td>\n      <td>...</td>\n      <td>...</td>\n      <td>...</td>\n      <td>...</td>\n      <td>...</td>\n    </tr>\n    <tr>\n      <th>337</th>\n      <td>2020-03-17 11:25:00+13:00</td>\n      <td>17032020 11h25</td>\n      <td>18032020 09h45</td>\n      <td>sub</td>\n      <td>H</td>\n      <td>aerosol</td>\n      <td>bubbler</td>\n      <td>uf</td>\n      <td>-1.2</td>\n      <td>0.000000</td>\n      <td>0.000000</td>\n    </tr>\n    <tr>\n      <th>338</th>\n      <td>2020-03-17 11:25:00+13:00</td>\n      <td>17032020 11h25</td>\n      <td>18032020 09h45</td>\n      <td>sub</td>\n      <td>UH</td>\n      <td>aerosol</td>\n      <td>bubbler</td>\n      <td>uf</td>\n      <td>-1.1</td>\n      <td>0.000000</td>\n      <td>0.000000</td>\n    </tr>\n    <tr>\n      <th>339</th>\n      <td>2020-03-17 11:25:00+13:00</td>\n      <td>17032020 11h25</td>\n      <td>18032020 09h45</td>\n      <td>sub</td>\n      <td>H</td>\n      <td>aerosol</td>\n      <td>bubbler</td>\n      <td>uf</td>\n      <td>-1.1</td>\n      <td>0.000000</td>\n      <td>0.000000</td>\n    </tr>\n    <tr>\n      <th>340</th>\n      <td>2020-03-17 11:25:00+13:00</td>\n      <td>17032020 11h25</td>\n      <td>18032020 09h45</td>\n      <td>sub</td>\n      <td>UH</td>\n      <td>aerosol</td>\n      <td>bubbler</td>\n      <td>uf</td>\n      <td>-1.0</td>\n      <td>0.000000</td>\n      <td>0.000000</td>\n    </tr>\n    <tr>\n      <th>341</th>\n      <td>2020-03-17 11:25:00+13:00</td>\n      <td>17032020 11h25</td>\n      <td>18032020 09h45</td>\n      <td>sub</td>\n      <td>H</td>\n      <td>aerosol</td>\n      <td>bubbler</td>\n      <td>uf</td>\n      <td>-1.0</td>\n      <td>0.000000</td>\n      <td>0.000000</td>\n    </tr>\n  </tbody>\n</table>\n<p>342 rows × 11 columns</p>\n</div>"
     },
     "metadata": {},
     "execution_count": 16
    }
   ],
   "source": [
    "inp_bubbler_melt"
   ]
  },
  {
   "cell_type": "code",
   "execution_count": 17,
   "metadata": {},
   "outputs": [],
   "source": [
    "# create a pivoted uway error dataframe then merge with the actual data\n",
    "bubbler_error_pivot = bubbler_error_melt.pivot_table(index=['process','datetime','temp','type','location','filtered'], values=['error (inp/l)'], columns='value_name')\n",
    "bubbler_df = pd.merge(inp_bubbler_melt,bubbler_error_pivot.reset_index(), on=['datetime','temp','process','type','location','filtered'])\n",
    "\n",
    "# clean column names\n",
    "bubbler_df = bubbler_df.rename(columns={(\n",
    "    'error (inp/l)','IN/L_lower'):'IN/L_lower',\n",
    "    ('error (inp/l)','IN/L_upper'):'IN/L_upper',\n",
    "    ('error (inp/l)','error_minus_y'):'error_minus_y',\n",
    "    ('error (inp/l)','error_y'):'error_y'})\n",
    "\n",
    "bubbler_df.set_index('datetime', inplace=True)"
   ]
  },
  {
   "cell_type": "code",
   "execution_count": 18,
   "metadata": {},
   "outputs": [
    {
     "output_type": "execute_result",
     "data": {
      "text/plain": [
       "                               start_date        stop_date size process  \\\n",
       "datetime                                                                  \n",
       "2020-03-17 11:25:00+13:00  17032020 11h25   18032020 09h45  sub      UH   \n",
       "2020-03-17 11:25:00+13:00  17032020 11h25   18032020 09h45  sub       H   \n",
       "2020-03-17 11:25:00+13:00  17032020 11h25   18032020 09h45  sub      UH   \n",
       "2020-03-17 11:25:00+13:00  17032020 11h25   18032020 09h45  sub       H   \n",
       "2020-03-17 11:25:00+13:00  17032020 11h25   18032020 09h45  sub      UH   \n",
       "...                                   ...              ...  ...     ...   \n",
       "2020-03-17 11:25:00+13:00  17032020 11h25   18032020 09h45  sub       H   \n",
       "2020-03-17 11:25:00+13:00  17032020 11h25   18032020 09h45  sub      UH   \n",
       "2020-03-17 11:25:00+13:00  17032020 11h25   18032020 09h45  sub       H   \n",
       "2020-03-17 11:25:00+13:00  17032020 11h25   18032020 09h45  sub      UH   \n",
       "2020-03-17 11:25:00+13:00  17032020 11h25   18032020 09h45  sub       H   \n",
       "\n",
       "                              type location filtered   temp     inp/l  \\\n",
       "datetime                                                                \n",
       "2020-03-17 11:25:00+13:00  aerosol  bubbler       uf  -18.0  0.007185   \n",
       "2020-03-17 11:25:00+13:00  aerosol  bubbler       uf  -18.0       NaN   \n",
       "2020-03-17 11:25:00+13:00  aerosol  bubbler       uf  -17.9  0.005814   \n",
       "2020-03-17 11:25:00+13:00  aerosol  bubbler       uf  -17.9       NaN   \n",
       "2020-03-17 11:25:00+13:00  aerosol  bubbler       uf  -17.8  0.005212   \n",
       "...                            ...      ...      ...    ...       ...   \n",
       "2020-03-17 11:25:00+13:00  aerosol  bubbler       uf   -1.2  0.000000   \n",
       "2020-03-17 11:25:00+13:00  aerosol  bubbler       uf   -1.1  0.000000   \n",
       "2020-03-17 11:25:00+13:00  aerosol  bubbler       uf   -1.1  0.000000   \n",
       "2020-03-17 11:25:00+13:00  aerosol  bubbler       uf   -1.0  0.000000   \n",
       "2020-03-17 11:25:00+13:00  aerosol  bubbler       uf   -1.0  0.000000   \n",
       "\n",
       "                            inp/m^3  IN/L_lower  IN/L_upper  error_minus_y  \\\n",
       "datetime                                                                     \n",
       "2020-03-17 11:25:00+13:00  7.184567    0.004165    0.011240       0.003019   \n",
       "2020-03-17 11:25:00+13:00       NaN    0.015414         NaN            NaN   \n",
       "2020-03-17 11:25:00+13:00  5.813676    0.003292    0.009371       0.002521   \n",
       "2020-03-17 11:25:00+13:00       NaN    0.015414         NaN            NaN   \n",
       "2020-03-17 11:25:00+13:00  5.211829    0.002906    0.008553       0.002305   \n",
       "...                             ...         ...         ...            ...   \n",
       "2020-03-17 11:25:00+13:00  0.000000    0.000000    0.001036       0.000000   \n",
       "2020-03-17 11:25:00+13:00  0.000000    0.000000    0.001036       0.000000   \n",
       "2020-03-17 11:25:00+13:00  0.000000    0.000000    0.001036       0.000000   \n",
       "2020-03-17 11:25:00+13:00  0.000000    0.000000    0.001036       0.000000   \n",
       "2020-03-17 11:25:00+13:00  0.000000    0.000000    0.001036       0.000000   \n",
       "\n",
       "                            error_y  \n",
       "datetime                             \n",
       "2020-03-17 11:25:00+13:00  0.004055  \n",
       "2020-03-17 11:25:00+13:00       NaN  \n",
       "2020-03-17 11:25:00+13:00  0.003558  \n",
       "2020-03-17 11:25:00+13:00       NaN  \n",
       "2020-03-17 11:25:00+13:00  0.003342  \n",
       "...                             ...  \n",
       "2020-03-17 11:25:00+13:00  0.001036  \n",
       "2020-03-17 11:25:00+13:00  0.001036  \n",
       "2020-03-17 11:25:00+13:00  0.001036  \n",
       "2020-03-17 11:25:00+13:00  0.001036  \n",
       "2020-03-17 11:25:00+13:00  0.001036  \n",
       "\n",
       "[342 rows x 14 columns]"
      ],
      "text/html": "<div>\n<style scoped>\n    .dataframe tbody tr th:only-of-type {\n        vertical-align: middle;\n    }\n\n    .dataframe tbody tr th {\n        vertical-align: top;\n    }\n\n    .dataframe thead th {\n        text-align: right;\n    }\n</style>\n<table border=\"1\" class=\"dataframe\">\n  <thead>\n    <tr style=\"text-align: right;\">\n      <th></th>\n      <th>start_date</th>\n      <th>stop_date</th>\n      <th>size</th>\n      <th>process</th>\n      <th>type</th>\n      <th>location</th>\n      <th>filtered</th>\n      <th>temp</th>\n      <th>inp/l</th>\n      <th>inp/m^3</th>\n      <th>IN/L_lower</th>\n      <th>IN/L_upper</th>\n      <th>error_minus_y</th>\n      <th>error_y</th>\n    </tr>\n    <tr>\n      <th>datetime</th>\n      <th></th>\n      <th></th>\n      <th></th>\n      <th></th>\n      <th></th>\n      <th></th>\n      <th></th>\n      <th></th>\n      <th></th>\n      <th></th>\n      <th></th>\n      <th></th>\n      <th></th>\n      <th></th>\n    </tr>\n  </thead>\n  <tbody>\n    <tr>\n      <th>2020-03-17 11:25:00+13:00</th>\n      <td>17032020 11h25</td>\n      <td>18032020 09h45</td>\n      <td>sub</td>\n      <td>UH</td>\n      <td>aerosol</td>\n      <td>bubbler</td>\n      <td>uf</td>\n      <td>-18.0</td>\n      <td>0.007185</td>\n      <td>7.184567</td>\n      <td>0.004165</td>\n      <td>0.011240</td>\n      <td>0.003019</td>\n      <td>0.004055</td>\n    </tr>\n    <tr>\n      <th>2020-03-17 11:25:00+13:00</th>\n      <td>17032020 11h25</td>\n      <td>18032020 09h45</td>\n      <td>sub</td>\n      <td>H</td>\n      <td>aerosol</td>\n      <td>bubbler</td>\n      <td>uf</td>\n      <td>-18.0</td>\n      <td>NaN</td>\n      <td>NaN</td>\n      <td>0.015414</td>\n      <td>NaN</td>\n      <td>NaN</td>\n      <td>NaN</td>\n    </tr>\n    <tr>\n      <th>2020-03-17 11:25:00+13:00</th>\n      <td>17032020 11h25</td>\n      <td>18032020 09h45</td>\n      <td>sub</td>\n      <td>UH</td>\n      <td>aerosol</td>\n      <td>bubbler</td>\n      <td>uf</td>\n      <td>-17.9</td>\n      <td>0.005814</td>\n      <td>5.813676</td>\n      <td>0.003292</td>\n      <td>0.009371</td>\n      <td>0.002521</td>\n      <td>0.003558</td>\n    </tr>\n    <tr>\n      <th>2020-03-17 11:25:00+13:00</th>\n      <td>17032020 11h25</td>\n      <td>18032020 09h45</td>\n      <td>sub</td>\n      <td>H</td>\n      <td>aerosol</td>\n      <td>bubbler</td>\n      <td>uf</td>\n      <td>-17.9</td>\n      <td>NaN</td>\n      <td>NaN</td>\n      <td>0.015414</td>\n      <td>NaN</td>\n      <td>NaN</td>\n      <td>NaN</td>\n    </tr>\n    <tr>\n      <th>2020-03-17 11:25:00+13:00</th>\n      <td>17032020 11h25</td>\n      <td>18032020 09h45</td>\n      <td>sub</td>\n      <td>UH</td>\n      <td>aerosol</td>\n      <td>bubbler</td>\n      <td>uf</td>\n      <td>-17.8</td>\n      <td>0.005212</td>\n      <td>5.211829</td>\n      <td>0.002906</td>\n      <td>0.008553</td>\n      <td>0.002305</td>\n      <td>0.003342</td>\n    </tr>\n    <tr>\n      <th>...</th>\n      <td>...</td>\n      <td>...</td>\n      <td>...</td>\n      <td>...</td>\n      <td>...</td>\n      <td>...</td>\n      <td>...</td>\n      <td>...</td>\n      <td>...</td>\n      <td>...</td>\n      <td>...</td>\n      <td>...</td>\n      <td>...</td>\n      <td>...</td>\n    </tr>\n    <tr>\n      <th>2020-03-17 11:25:00+13:00</th>\n      <td>17032020 11h25</td>\n      <td>18032020 09h45</td>\n      <td>sub</td>\n      <td>H</td>\n      <td>aerosol</td>\n      <td>bubbler</td>\n      <td>uf</td>\n      <td>-1.2</td>\n      <td>0.000000</td>\n      <td>0.000000</td>\n      <td>0.000000</td>\n      <td>0.001036</td>\n      <td>0.000000</td>\n      <td>0.001036</td>\n    </tr>\n    <tr>\n      <th>2020-03-17 11:25:00+13:00</th>\n      <td>17032020 11h25</td>\n      <td>18032020 09h45</td>\n      <td>sub</td>\n      <td>UH</td>\n      <td>aerosol</td>\n      <td>bubbler</td>\n      <td>uf</td>\n      <td>-1.1</td>\n      <td>0.000000</td>\n      <td>0.000000</td>\n      <td>0.000000</td>\n      <td>0.001036</td>\n      <td>0.000000</td>\n      <td>0.001036</td>\n    </tr>\n    <tr>\n      <th>2020-03-17 11:25:00+13:00</th>\n      <td>17032020 11h25</td>\n      <td>18032020 09h45</td>\n      <td>sub</td>\n      <td>H</td>\n      <td>aerosol</td>\n      <td>bubbler</td>\n      <td>uf</td>\n      <td>-1.1</td>\n      <td>0.000000</td>\n      <td>0.000000</td>\n      <td>0.000000</td>\n      <td>0.001036</td>\n      <td>0.000000</td>\n      <td>0.001036</td>\n    </tr>\n    <tr>\n      <th>2020-03-17 11:25:00+13:00</th>\n      <td>17032020 11h25</td>\n      <td>18032020 09h45</td>\n      <td>sub</td>\n      <td>UH</td>\n      <td>aerosol</td>\n      <td>bubbler</td>\n      <td>uf</td>\n      <td>-1.0</td>\n      <td>0.000000</td>\n      <td>0.000000</td>\n      <td>0.000000</td>\n      <td>0.001036</td>\n      <td>0.000000</td>\n      <td>0.001036</td>\n    </tr>\n    <tr>\n      <th>2020-03-17 11:25:00+13:00</th>\n      <td>17032020 11h25</td>\n      <td>18032020 09h45</td>\n      <td>sub</td>\n      <td>H</td>\n      <td>aerosol</td>\n      <td>bubbler</td>\n      <td>uf</td>\n      <td>-1.0</td>\n      <td>0.000000</td>\n      <td>0.000000</td>\n      <td>0.000000</td>\n      <td>0.001036</td>\n      <td>0.000000</td>\n      <td>0.001036</td>\n    </tr>\n  </tbody>\n</table>\n<p>342 rows × 14 columns</p>\n</div>"
     },
     "metadata": {},
     "execution_count": 18
    }
   ],
   "source": [
    "bubbler_df"
   ]
  },
  {
   "cell_type": "code",
   "execution_count": null,
   "metadata": {},
   "outputs": [],
   "source": [
    "# Calculated Surface Area Normalized INP Concentrations"
   ]
  },
  {
   "cell_type": "code",
   "execution_count": null,
   "metadata": {},
   "outputs": [],
   "source": [
    "# Prepare SMPS Data"
   ]
  },
  {
   "cell_type": "code",
   "execution_count": null,
   "metadata": {},
   "outputs": [],
   "source": [
    "# load scanotron data that was cleaned using pt.clean_inverted in the temp_control_cn.ipynb\n",
    "dates = '2020-03-14_2020-03-27'\n",
    "instr = 'scanotron' \n",
    "\n",
    "dN, dNdLogDp_full = pt.load_scano_data(dates, instr)\n",
    "\n",
    "# this code requires a dNdLogDp and a dictionary of times\n",
    "# create dictionary of times for each day that the INP bubbler was running, named in_time_dict\n",
    "in_time_dict = {    \n",
    "    '17': ['2020-03-17 11:25','2020-03-18 09:45'],\n",
    "    }\n",
    "# create empty smps dictionary\n",
    "smps_dict = {}\n",
    "\n",
    "# loop through each key in the in_time_dict and index those times from the dNdlogDp_full dataframe and save each of them as a dictionary in the smps dictionary\n",
    "for day in in_time_dict:\n",
    "    smps_dict[day] = dNdLogDp_full.loc[in_time_dict[day][0]:in_time_dict[day][1]]\n",
    "\n",
    "#  remove time during cleaning\n",
    "smps_dict['23']=smps_dict['23'][(smps_dict['23'].index <'2020-03-23 12:51:43') | (smps_dict['23'].index >'2020-03-23 15:22:14')]\n",
    "\n",
    "# loop through the dictionary and remove massive outliers\n",
    "from scipy import stats\n",
    "for day in in_time_dict:\n",
    "    z = abs(stats.zscore(smps_dict[day].sum(axis=1)))\n",
    "    smps_dict[day] = smps_dict[day][(z<1)]\n",
    "\n",
    "# create a daily standard deviation from the smps dictionary\n",
    "smps_daily_std = {}\n",
    "smps_daily_mean = {}\n",
    "\n",
    "# create a daily mean dictionary from the smps dictionary\n",
    "for day in smps_dict:\n",
    "    smps_daily_mean[day] = smps_dict[day].mean()\n",
    "    smps_daily_std[day] = smps_dict[day].std()\n",
    "\n",
    "# turn them into dataframes\n",
    "smps_daily_mean_df = pd.DataFrame(smps_daily_mean)\n",
    "smps_daily_std_df = pd.DataFrame(smps_daily_std)\n",
    "\n",
    "# clean it up a bit\n",
    "smps_daily_mean_df.reset_index(inplace=True)\n",
    "smps_daily_mean_df=smps_daily_mean_df.rename(columns={'index':'Dp'})\n",
    "smps_daily_mean_df.set_index('Dp', inplace=True)\n",
    "\n",
    "smps_daily_std_df.reset_index(inplace=True)\n",
    "smps_daily_std_df=smps_daily_std_df.rename(columns={'index':'Dp'})\n",
    "smps_daily_std_df.set_index('Dp', inplace=True)\n",
    "smps_daily_mean_df.index=smps_daily_mean_df.index.astype(int)\n",
    "smps_daily_std_df.index=smps_daily_std_df.index.astype(int)"
   ]
  },
  {
   "cell_type": "code",
   "execution_count": null,
   "metadata": {},
   "outputs": [],
   "source": [
    "dAdLogDp, dA_total, dN_total, dAdLogDp_std = pt.surface_area(smps_daily_mean_df,smps_daily_std_df, 25)"
   ]
  },
  {
   "cell_type": "code",
   "execution_count": null,
   "metadata": {},
   "outputs": [],
   "source": [
    "fig3=pt.plot_number_dist(smps_daily_mean_df.drop(columns=['Dp (m)', 'Dp2 (m2)', 'factorA']), smps_daily_std_df.drop(columns=['Dp (m)', 'Dp2 (m2)', 'factorA']))\n",
    "fig4=pt.plot_surface_dist(dAdLogDp, dAdLogDp_std)"
   ]
  },
  {
   "cell_type": "code",
   "execution_count": null,
   "metadata": {},
   "outputs": [],
   "source": [
    "fig3.update_layout(height=800, width=900)"
   ]
  },
  {
   "cell_type": "code",
   "execution_count": null,
   "metadata": {},
   "outputs": [],
   "source": [
    "fig4.update_layout(height=800)"
   ]
  },
  {
   "cell_type": "code",
   "execution_count": null,
   "metadata": {},
   "outputs": [],
   "source": [
    "# Normalize INP Data "
   ]
  },
  {
   "cell_type": "code",
   "execution_count": null,
   "metadata": {},
   "outputs": [],
   "source": [
    "inp_bubbler = pt.inp(inp_type='aerosol', inp_location='bubbler', cyto_location='n/a', cyto_data=None, uway_bio_data=None, inp_data=bubbler_df)\n",
    "inp_bubbler.sa_normalize(dA_total)"
   ]
  },
  {
   "cell_type": "code",
   "execution_count": null,
   "metadata": {},
   "outputs": [],
   "source": [
    "fig2=inp_bubbler.plot_ins_inp()\n",
    "fig2.update_yaxes(type='log', title='INP per cm<sup>2</sup> of SSA Surface (D<sub>p</sub> = 10-5000nm)', exponentformat='power')\n",
    "# fig.write_image(\"..\\\\reports\\\\figures\\\\10112020\\\\ssa_inp_comparison.png\", scale=2)"
   ]
  },
  {
   "cell_type": "code",
   "execution_count": null,
   "metadata": {},
   "outputs": [],
   "source": [
    "# Calculate Correlations"
   ]
  },
  {
   "cell_type": "code",
   "execution_count": null,
   "metadata": {},
   "outputs": [],
   "source": [
    "inp_bubbler.inp.set_index('datetime',inplace=True)\n",
    "inp_bubbler.correlations(temps=temps,process='UH', inp_units='inp_sa_normalized', size='sub')\n",
    "inp_bubbler.correlations(temps=temps,process='H', inp_units='inp_sa_normalized', size='sub')"
   ]
  },
  {
   "cell_type": "code",
   "execution_count": null,
   "metadata": {},
   "outputs": [],
   "source": [
    "temp = '-17.5'\n",
    "inp_bubbler.results['UH'][temp]['corrs'].sort_values(by='p', ascending=True)[:10].style.set_caption(f\"Correlations with Unheated Bubbler INP {temp}\")"
   ]
  }
 ]
}