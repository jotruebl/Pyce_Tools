{
 "metadata": {
  "language_info": {
   "codemirror_mode": {
    "name": "ipython",
    "version": 3
   },
   "file_extension": ".py",
   "mimetype": "text/x-python",
   "name": "python",
   "nbconvert_exporter": "python",
   "pygments_lexer": "ipython3",
   "version": "3.7.8-final"
  },
  "orig_nbformat": 2,
  "kernelspec": {
   "name": "science3",
   "display_name": "science3",
   "language": "python"
  }
 },
 "nbformat": 4,
 "nbformat_minor": 2,
 "cells": [
  {
   "source": [
    "<div class=\"alert alert-block alert-info\" style=\"outline-style: solid;\">\n",
    "<h1>1.0 Import Modules</h1>\n",
    "</div>"
   ],
   "cell_type": "markdown",
   "metadata": {}
  },
  {
   "source": [
    "First, you need to import the following modules. Make sure the sys.path.append('') points to the location on your computer that you saved pyce_tools."
   ],
   "cell_type": "markdown",
   "metadata": {}
  },
  {
   "cell_type": "code",
   "execution_count": 2,
   "metadata": {},
   "outputs": [
    {
     "output_type": "stream",
     "name": "stdout",
     "text": [
      "Cool party!\n"
     ]
    }
   ],
   "source": [
    "import pandas as pd\n",
    "import os\n",
    "import datetime\n",
    "sys.path.append('C:\\\\Users\\\\trueblood\\\\projects\\\\pyce_tools')\n",
    "import pyce_tools.pyce_tools as pt"
   ]
  },
  {
   "source": [
    "For this tutorial, we'll take a raw data file of aerosol sample type and preprocess it, then do some basic exploratory data analysis. \n",
    "\n",
    "The first step is to pre-process all the data."
   ],
   "cell_type": "markdown",
   "metadata": {}
  },
  {
   "source": [
    "<div class=\"alert alert-block alert-info\" style=\"outline-style: solid;\">\n",
    "<h1>2.0 Pre-processing of INP Data</h1>\n",
    "</div>"
   ],
   "cell_type": "markdown",
   "metadata": {}
  },
  {
   "source": [
    "<div class=\"alert alert-block alert-info\" style=\"outline-style: solid;\">\n",
    "<h2>2.1 Raw Data Calculation</h2>\n",
    "</div>"
   ],
   "cell_type": "markdown",
   "metadata": {}
  },
  {
   "source": [
    "Before we do anything, we need to calculate the raw blank data into a calculated report file."
   ],
   "cell_type": "markdown",
   "metadata": {}
  },
  {
   "cell_type": "code",
   "execution_count": 3,
   "metadata": {},
   "outputs": [
    {
     "output_type": "stream",
     "name": "stdout",
     "text": [
      "...Raw blank data calculated!\n"
     ]
    }
   ],
   "source": [
    "# Create blank file\n",
    "issues = None\n",
    "type_ = 'aerosol'\n",
    "process = 'uf'\n",
    "collection_date = '06042020 '\n",
    "sample_name = 'Bubbler 3 stage BLANK pc'\n",
    "analysis_date = '01/01/21'\n",
    "num_tubes = 26\n",
    "vol_tube = 0.2\n",
    "rinse_vol = 20\n",
    "size = 'sub'\n",
    "location = 'bubbler'\n",
    "raw = pt.calculate_raw_blank(type_, process, location, sample_name, collection_date,\n",
    "                  analysis_date, issues, num_tubes, vol_tube, rinse_vol, size)"
   ]
  },
  {
   "source": [
    "Now that we've created our blank file, we can use it to calculate a raw data file from a sample. Note that we pass the file into the 'blank_source' parameter below. Pyce Tools uses the metadata that you pass when calling it to calculate the report files, so it's important you fill everything in."
   ],
   "cell_type": "markdown",
   "metadata": {}
  },
  {
   "cell_type": "code",
   "execution_count": 4,
   "metadata": {},
   "outputs": [
    {
     "output_type": "stream",
     "name": "stdout",
     "text": [
      "...IN data calculated!\nCalculated report file saved to ..\\data\\interim\\IN\\calculated\\aerosol\\bubbler\\aerosol_bubbler_uf_sub_170320_1125_calculated.xlsx.\n"
     ]
    }
   ],
   "source": [
    "# Calculate aerosol sample\n",
    "issues = None\n",
    "blank_source = '..\\\\data\\\\interim\\\\IN\\\\calculated\\\\blank\\\\bubbler_blank_uf_sub_060420_calculated.xlsx'\n",
    "type_ = 'aerosol'\n",
    "size = 'sub'\n",
    "location = 'bubbler'\n",
    "process = 'uf'\n",
    "sample_name = 'Day 01 bubbler 3 stage PC'\n",
    "collection_date = '17032020 11h25'\n",
    "sample_stop_time = '18032020 09h45'\n",
    "analysis_date = '01/01/2021'\n",
    "num_tubes = 26\n",
    "vol_tube = 0.2\n",
    "flow_start = 10.50\n",
    "flow_stop = 9.35\n",
    "rinse_vol = 20\n",
    "\n",
    "raw = pt.calculate_raw(blank_source, type_, location, process, sample_name, collection_date, analysis_date, issues, num_tubes, vol_tube, rinse_vol, size, flow_start, flow_stop, sample_stop_time)"
   ]
  },
  {
   "source": [
    "Running the above code will create a calculated report file in which the blank corrected values are given. Take a minute to open the report file now (file path is given above) and have a look yourself. Also be sure to check the 'tubeholderfilling' tab which gives an overview of all the cells. Sometimes unexpected things happen during analysis, like the LED turns off mid experiment. You should compare this with the final image from the LINDA to ensure the automated process correctly identified frozen vs nonfrozen cells. \n",
    "\n",
    "For example, during this experiment, the LED turned off several times. This caused the program to assume all cells froze. Go into the 'freezepointdetection' tab. Whenever you see several rows where EVERY column has indicated freezing occurred, you can assume it's because the LED turned off. To fix this, simply delete those rows. \n",
    "\n",
    "Also note a separate tab for heated vs unheated samples is given (e.g., summary_UF_UH and summary_UF_H). The code is written to assume the bottom 26 cells are unheated and the top 26 cells are heated. You can alter this as needed. Each summary tab has calculations for blank corrected concentrations and uncertainty as well as metadata. Once you're familiar with this report file you can come back here and begin the next step."
   ],
   "cell_type": "markdown",
   "metadata": {}
  },
  {
   "source": [
    "<div class=\"alert alert-block alert-info\" style=\"outline-style: solid;\">\n",
    "<h2>2.2 Clean Calculated Report File</h2>\n",
    "</div>\n"
   ],
   "cell_type": "markdown",
   "metadata": {}
  },
  {
   "source": [
    "Cleaning the available calculated report files is as sample as calling clean_calculated_in() function and passing the parameters for INP type and location. The script will automatically find all relevant files in the folder and combine them into a single time series."
   ],
   "cell_type": "markdown",
   "metadata": {}
  },
  {
   "cell_type": "code",
   "execution_count": 12,
   "metadata": {},
   "outputs": [],
   "source": [
    "# Create cleaned files of INP and uncertainty\n",
    "pt.clean_calculated_in(type_='aerosol',location='bubbler')\n",
    "pt.calculate_wilson_errors(project='tutorial', location='bubbler', type_='aerosol', n=26)"
   ]
  },
  {
   "source": [
    "<div class=\"alert alert-block alert-info\" style=\"outline-style: solid;\">\n",
    "<h2>2.3 Load Cleaned Data and Final Preprocessing</h2>\n",
    "</div>\n",
    "\n"
   ],
   "cell_type": "markdown",
   "metadata": {}
  },
  {
   "source": [
    "Load the cleaned INP data and uncertainty files. Do a final bit of preprocessing. This is unique to each experiment but I've given an example below."
   ],
   "cell_type": "markdown",
   "metadata": {}
  },
  {
   "cell_type": "code",
   "execution_count": 39,
   "metadata": {},
   "outputs": [],
   "source": [
    "# Load cleaned data and create time timeseries index in New Zealand Standard Time\n",
    "inp_bubbler = pd.read_csv('..\\\\data\\\\interim\\\\IN\\\\cleaned\\\\combinedtimeseries\\\\aerosol\\\\bubbler_17032020_17032020.csv', index_col='datetime')\n",
    "inp_bubbler.index = pd.to_datetime(inp_bubbler.index, format='%d%m%Y %Hh%M')\n",
    "inp_bubbler= inp_bubbler.tz_localize('NZ')\n",
    "\n",
    "bubbler_error = pd.read_csv('..\\\\data\\\\interim\\\\IN\\\\cleaned\\\\combinedtimeseries\\\\aerosol\\\\bubbler_170320_170320wilson_error.csv', index_col='datetime', parse_dates=True)\n",
    "bubbler_error.index=pd.to_datetime(bubbler_error.index, dayfirst=True, format='%d%m%Y %Hh%M')\n",
    "bubbler_error= bubbler_error.tz_localize('NZ')\n"
   ]
  },
  {
   "cell_type": "code",
   "execution_count": 40,
   "metadata": {},
   "outputs": [
    {
     "output_type": "execute_result",
     "data": {
      "text/plain": [
       "                              -18.0     -17.9     -17.8     -17.7     -17.6  \\\n",
       "datetime                                                                      \n",
       "2020-03-17 11:25:00+13:00  0.007185  0.005814  0.005212  0.003651  0.003651   \n",
       "2020-03-17 11:25:00+13:00       NaN       NaN       NaN       NaN       NaN   \n",
       "\n",
       "                              -17.5     -17.4     -17.3     -17.2     -17.1  \\\n",
       "datetime                                                                      \n",
       "2020-03-17 11:25:00+13:00  0.003651  0.003195  0.003195  0.003195  0.003195   \n",
       "2020-03-17 11:25:00+13:00       NaN       NaN       NaN       NaN       NaN   \n",
       "\n",
       "                           ...  -1.2  -1.1  -1.0      start_date  \\\n",
       "datetime                   ...                                     \n",
       "2020-03-17 11:25:00+13:00  ...   0.0   0.0   0.0  17032020 11h25   \n",
       "2020-03-17 11:25:00+13:00  ...   0.0   0.0   0.0  17032020 11h25   \n",
       "\n",
       "                                 stop_date  size  process     type  location  \\\n",
       "datetime                                                                       \n",
       "2020-03-17 11:25:00+13:00   18032020 09h45   sub       UH  aerosol   bubbler   \n",
       "2020-03-17 11:25:00+13:00   18032020 09h45   sub        H  aerosol   bubbler   \n",
       "\n",
       "                           filtered  \n",
       "datetime                             \n",
       "2020-03-17 11:25:00+13:00        uf  \n",
       "2020-03-17 11:25:00+13:00        uf  \n",
       "\n",
       "[2 rows x 178 columns]"
      ],
      "text/html": "<div>\n<style scoped>\n    .dataframe tbody tr th:only-of-type {\n        vertical-align: middle;\n    }\n\n    .dataframe tbody tr th {\n        vertical-align: top;\n    }\n\n    .dataframe thead th {\n        text-align: right;\n    }\n</style>\n<table border=\"1\" class=\"dataframe\">\n  <thead>\n    <tr style=\"text-align: right;\">\n      <th></th>\n      <th>-18.0</th>\n      <th>-17.9</th>\n      <th>-17.8</th>\n      <th>-17.7</th>\n      <th>-17.6</th>\n      <th>-17.5</th>\n      <th>-17.4</th>\n      <th>-17.3</th>\n      <th>-17.2</th>\n      <th>-17.1</th>\n      <th>...</th>\n      <th>-1.2</th>\n      <th>-1.1</th>\n      <th>-1.0</th>\n      <th>start_date</th>\n      <th>stop_date</th>\n      <th>size</th>\n      <th>process</th>\n      <th>type</th>\n      <th>location</th>\n      <th>filtered</th>\n    </tr>\n    <tr>\n      <th>datetime</th>\n      <th></th>\n      <th></th>\n      <th></th>\n      <th></th>\n      <th></th>\n      <th></th>\n      <th></th>\n      <th></th>\n      <th></th>\n      <th></th>\n      <th></th>\n      <th></th>\n      <th></th>\n      <th></th>\n      <th></th>\n      <th></th>\n      <th></th>\n      <th></th>\n      <th></th>\n      <th></th>\n      <th></th>\n    </tr>\n  </thead>\n  <tbody>\n    <tr>\n      <th>2020-03-17 11:25:00+13:00</th>\n      <td>0.007185</td>\n      <td>0.005814</td>\n      <td>0.005212</td>\n      <td>0.003651</td>\n      <td>0.003651</td>\n      <td>0.003651</td>\n      <td>0.003195</td>\n      <td>0.003195</td>\n      <td>0.003195</td>\n      <td>0.003195</td>\n      <td>...</td>\n      <td>0.0</td>\n      <td>0.0</td>\n      <td>0.0</td>\n      <td>17032020 11h25</td>\n      <td>18032020 09h45</td>\n      <td>sub</td>\n      <td>UH</td>\n      <td>aerosol</td>\n      <td>bubbler</td>\n      <td>uf</td>\n    </tr>\n    <tr>\n      <th>2020-03-17 11:25:00+13:00</th>\n      <td>NaN</td>\n      <td>NaN</td>\n      <td>NaN</td>\n      <td>NaN</td>\n      <td>NaN</td>\n      <td>NaN</td>\n      <td>NaN</td>\n      <td>NaN</td>\n      <td>NaN</td>\n      <td>NaN</td>\n      <td>...</td>\n      <td>0.0</td>\n      <td>0.0</td>\n      <td>0.0</td>\n      <td>17032020 11h25</td>\n      <td>18032020 09h45</td>\n      <td>sub</td>\n      <td>H</td>\n      <td>aerosol</td>\n      <td>bubbler</td>\n      <td>uf</td>\n    </tr>\n  </tbody>\n</table>\n<p>2 rows × 178 columns</p>\n</div>"
     },
     "metadata": {},
     "execution_count": 40
    }
   ],
   "source": [
    "inp_bubbler.head()"
   ]
  },
  {
   "cell_type": "code",
   "execution_count": 41,
   "metadata": {},
   "outputs": [],
   "source": [
    "# Create melted dataframes with INP/m^3\n",
    "inp_bubbler_melt=inp_bubbler.reset_index().melt(id_vars = ['datetime','start_date','stop_date','size','process', 'type','location','filtered'], var_name = 'temp', value_name='inp/l')\n",
    "inp_bubbler_melt['inp/m^3'] = inp_bubbler_melt['inp/l']*1000\n",
    "\n",
    "bubbler_error_melt = pd.melt(bubbler_error.reset_index(), id_vars = ['datetime','time','process','filtered','location','type','value_name', 'size'], var_name = 'temp', value_name='error (inp/l)')\n",
    "bubbler_error_melt=bubbler_error_melt.drop(columns='time')\n",
    "bubbler_error_melt['error (inp/m^3)'] = bubbler_error_melt['error (inp/l)']*1000"
   ]
  },
  {
   "cell_type": "code",
   "execution_count": 42,
   "metadata": {},
   "outputs": [
    {
     "output_type": "execute_result",
     "data": {
      "text/plain": [
       "                     datetime      start_date        stop_date size process  \\\n",
       "0   2020-03-17 11:25:00+13:00  17032020 11h25   18032020 09h45  sub      UH   \n",
       "1   2020-03-17 11:25:00+13:00  17032020 11h25   18032020 09h45  sub       H   \n",
       "2   2020-03-17 11:25:00+13:00  17032020 11h25   18032020 09h45  sub      UH   \n",
       "3   2020-03-17 11:25:00+13:00  17032020 11h25   18032020 09h45  sub       H   \n",
       "4   2020-03-17 11:25:00+13:00  17032020 11h25   18032020 09h45  sub      UH   \n",
       "..                        ...             ...              ...  ...     ...   \n",
       "337 2020-03-17 11:25:00+13:00  17032020 11h25   18032020 09h45  sub       H   \n",
       "338 2020-03-17 11:25:00+13:00  17032020 11h25   18032020 09h45  sub      UH   \n",
       "339 2020-03-17 11:25:00+13:00  17032020 11h25   18032020 09h45  sub       H   \n",
       "340 2020-03-17 11:25:00+13:00  17032020 11h25   18032020 09h45  sub      UH   \n",
       "341 2020-03-17 11:25:00+13:00  17032020 11h25   18032020 09h45  sub       H   \n",
       "\n",
       "        type location filtered   temp     inp/l   inp/m^3  \n",
       "0    aerosol  bubbler       uf  -18.0  0.007185  7.184567  \n",
       "1    aerosol  bubbler       uf  -18.0       NaN       NaN  \n",
       "2    aerosol  bubbler       uf  -17.9  0.005814  5.813676  \n",
       "3    aerosol  bubbler       uf  -17.9       NaN       NaN  \n",
       "4    aerosol  bubbler       uf  -17.8  0.005212  5.211829  \n",
       "..       ...      ...      ...    ...       ...       ...  \n",
       "337  aerosol  bubbler       uf   -1.2  0.000000  0.000000  \n",
       "338  aerosol  bubbler       uf   -1.1  0.000000  0.000000  \n",
       "339  aerosol  bubbler       uf   -1.1  0.000000  0.000000  \n",
       "340  aerosol  bubbler       uf   -1.0  0.000000  0.000000  \n",
       "341  aerosol  bubbler       uf   -1.0  0.000000  0.000000  \n",
       "\n",
       "[342 rows x 11 columns]"
      ],
      "text/html": "<div>\n<style scoped>\n    .dataframe tbody tr th:only-of-type {\n        vertical-align: middle;\n    }\n\n    .dataframe tbody tr th {\n        vertical-align: top;\n    }\n\n    .dataframe thead th {\n        text-align: right;\n    }\n</style>\n<table border=\"1\" class=\"dataframe\">\n  <thead>\n    <tr style=\"text-align: right;\">\n      <th></th>\n      <th>datetime</th>\n      <th>start_date</th>\n      <th>stop_date</th>\n      <th>size</th>\n      <th>process</th>\n      <th>type</th>\n      <th>location</th>\n      <th>filtered</th>\n      <th>temp</th>\n      <th>inp/l</th>\n      <th>inp/m^3</th>\n    </tr>\n  </thead>\n  <tbody>\n    <tr>\n      <th>0</th>\n      <td>2020-03-17 11:25:00+13:00</td>\n      <td>17032020 11h25</td>\n      <td>18032020 09h45</td>\n      <td>sub</td>\n      <td>UH</td>\n      <td>aerosol</td>\n      <td>bubbler</td>\n      <td>uf</td>\n      <td>-18.0</td>\n      <td>0.007185</td>\n      <td>7.184567</td>\n    </tr>\n    <tr>\n      <th>1</th>\n      <td>2020-03-17 11:25:00+13:00</td>\n      <td>17032020 11h25</td>\n      <td>18032020 09h45</td>\n      <td>sub</td>\n      <td>H</td>\n      <td>aerosol</td>\n      <td>bubbler</td>\n      <td>uf</td>\n      <td>-18.0</td>\n      <td>NaN</td>\n      <td>NaN</td>\n    </tr>\n    <tr>\n      <th>2</th>\n      <td>2020-03-17 11:25:00+13:00</td>\n      <td>17032020 11h25</td>\n      <td>18032020 09h45</td>\n      <td>sub</td>\n      <td>UH</td>\n      <td>aerosol</td>\n      <td>bubbler</td>\n      <td>uf</td>\n      <td>-17.9</td>\n      <td>0.005814</td>\n      <td>5.813676</td>\n    </tr>\n    <tr>\n      <th>3</th>\n      <td>2020-03-17 11:25:00+13:00</td>\n      <td>17032020 11h25</td>\n      <td>18032020 09h45</td>\n      <td>sub</td>\n      <td>H</td>\n      <td>aerosol</td>\n      <td>bubbler</td>\n      <td>uf</td>\n      <td>-17.9</td>\n      <td>NaN</td>\n      <td>NaN</td>\n    </tr>\n    <tr>\n      <th>4</th>\n      <td>2020-03-17 11:25:00+13:00</td>\n      <td>17032020 11h25</td>\n      <td>18032020 09h45</td>\n      <td>sub</td>\n      <td>UH</td>\n      <td>aerosol</td>\n      <td>bubbler</td>\n      <td>uf</td>\n      <td>-17.8</td>\n      <td>0.005212</td>\n      <td>5.211829</td>\n    </tr>\n    <tr>\n      <th>...</th>\n      <td>...</td>\n      <td>...</td>\n      <td>...</td>\n      <td>...</td>\n      <td>...</td>\n      <td>...</td>\n      <td>...</td>\n      <td>...</td>\n      <td>...</td>\n      <td>...</td>\n      <td>...</td>\n    </tr>\n    <tr>\n      <th>337</th>\n      <td>2020-03-17 11:25:00+13:00</td>\n      <td>17032020 11h25</td>\n      <td>18032020 09h45</td>\n      <td>sub</td>\n      <td>H</td>\n      <td>aerosol</td>\n      <td>bubbler</td>\n      <td>uf</td>\n      <td>-1.2</td>\n      <td>0.000000</td>\n      <td>0.000000</td>\n    </tr>\n    <tr>\n      <th>338</th>\n      <td>2020-03-17 11:25:00+13:00</td>\n      <td>17032020 11h25</td>\n      <td>18032020 09h45</td>\n      <td>sub</td>\n      <td>UH</td>\n      <td>aerosol</td>\n      <td>bubbler</td>\n      <td>uf</td>\n      <td>-1.1</td>\n      <td>0.000000</td>\n      <td>0.000000</td>\n    </tr>\n    <tr>\n      <th>339</th>\n      <td>2020-03-17 11:25:00+13:00</td>\n      <td>17032020 11h25</td>\n      <td>18032020 09h45</td>\n      <td>sub</td>\n      <td>H</td>\n      <td>aerosol</td>\n      <td>bubbler</td>\n      <td>uf</td>\n      <td>-1.1</td>\n      <td>0.000000</td>\n      <td>0.000000</td>\n    </tr>\n    <tr>\n      <th>340</th>\n      <td>2020-03-17 11:25:00+13:00</td>\n      <td>17032020 11h25</td>\n      <td>18032020 09h45</td>\n      <td>sub</td>\n      <td>UH</td>\n      <td>aerosol</td>\n      <td>bubbler</td>\n      <td>uf</td>\n      <td>-1.0</td>\n      <td>0.000000</td>\n      <td>0.000000</td>\n    </tr>\n    <tr>\n      <th>341</th>\n      <td>2020-03-17 11:25:00+13:00</td>\n      <td>17032020 11h25</td>\n      <td>18032020 09h45</td>\n      <td>sub</td>\n      <td>H</td>\n      <td>aerosol</td>\n      <td>bubbler</td>\n      <td>uf</td>\n      <td>-1.0</td>\n      <td>0.000000</td>\n      <td>0.000000</td>\n    </tr>\n  </tbody>\n</table>\n<p>342 rows × 11 columns</p>\n</div>"
     },
     "metadata": {},
     "execution_count": 42
    }
   ],
   "source": [
    "inp_bubbler_melt"
   ]
  },
  {
   "cell_type": "code",
   "execution_count": 43,
   "metadata": {},
   "outputs": [],
   "source": [
    "# create a pivoted uway error dataframe then merge with the actual data\n",
    "bubbler_error_pivot = bubbler_error_melt.pivot_table(index=['process','datetime','temp','type','location','filtered'], values=['error (inp/l)'], columns='value_name')\n",
    "bubbler_df = pd.merge(inp_bubbler_melt,bubbler_error_pivot.reset_index(), on=['datetime','temp','process','type','location','filtered'])\n",
    "\n",
    "# clean column names\n",
    "bubbler_df = bubbler_df.rename(columns={(\n",
    "    'error (inp/l)','IN/L_lower'):'IN/L_lower',\n",
    "    ('error (inp/l)','IN/L_upper'):'IN/L_upper',\n",
    "    ('error (inp/l)','error_minus_y'):'error_minus_y',\n",
    "    ('error (inp/l)','error_y'):'error_y'})\n",
    "\n",
    "bubbler_df.set_index('datetime', inplace=True)"
   ]
  },
  {
   "cell_type": "code",
   "execution_count": 44,
   "metadata": {},
   "outputs": [
    {
     "output_type": "execute_result",
     "data": {
      "text/plain": [
       "                               start_date        stop_date size process  \\\n",
       "datetime                                                                  \n",
       "2020-03-17 11:25:00+13:00  17032020 11h25   18032020 09h45  sub      UH   \n",
       "2020-03-17 11:25:00+13:00  17032020 11h25   18032020 09h45  sub       H   \n",
       "2020-03-17 11:25:00+13:00  17032020 11h25   18032020 09h45  sub      UH   \n",
       "2020-03-17 11:25:00+13:00  17032020 11h25   18032020 09h45  sub       H   \n",
       "2020-03-17 11:25:00+13:00  17032020 11h25   18032020 09h45  sub      UH   \n",
       "...                                   ...              ...  ...     ...   \n",
       "2020-03-17 11:25:00+13:00  17032020 11h25   18032020 09h45  sub       H   \n",
       "2020-03-17 11:25:00+13:00  17032020 11h25   18032020 09h45  sub      UH   \n",
       "2020-03-17 11:25:00+13:00  17032020 11h25   18032020 09h45  sub       H   \n",
       "2020-03-17 11:25:00+13:00  17032020 11h25   18032020 09h45  sub      UH   \n",
       "2020-03-17 11:25:00+13:00  17032020 11h25   18032020 09h45  sub       H   \n",
       "\n",
       "                              type location filtered   temp     inp/l  \\\n",
       "datetime                                                                \n",
       "2020-03-17 11:25:00+13:00  aerosol  bubbler       uf  -18.0  0.007185   \n",
       "2020-03-17 11:25:00+13:00  aerosol  bubbler       uf  -18.0       NaN   \n",
       "2020-03-17 11:25:00+13:00  aerosol  bubbler       uf  -17.9  0.005814   \n",
       "2020-03-17 11:25:00+13:00  aerosol  bubbler       uf  -17.9       NaN   \n",
       "2020-03-17 11:25:00+13:00  aerosol  bubbler       uf  -17.8  0.005212   \n",
       "...                            ...      ...      ...    ...       ...   \n",
       "2020-03-17 11:25:00+13:00  aerosol  bubbler       uf   -1.2  0.000000   \n",
       "2020-03-17 11:25:00+13:00  aerosol  bubbler       uf   -1.1  0.000000   \n",
       "2020-03-17 11:25:00+13:00  aerosol  bubbler       uf   -1.1  0.000000   \n",
       "2020-03-17 11:25:00+13:00  aerosol  bubbler       uf   -1.0  0.000000   \n",
       "2020-03-17 11:25:00+13:00  aerosol  bubbler       uf   -1.0  0.000000   \n",
       "\n",
       "                            inp/m^3  IN/L_lower  IN/L_upper  error_minus_y  \\\n",
       "datetime                                                                     \n",
       "2020-03-17 11:25:00+13:00  7.184567    0.004165    0.011240       0.003019   \n",
       "2020-03-17 11:25:00+13:00       NaN    0.015414         NaN            NaN   \n",
       "2020-03-17 11:25:00+13:00  5.813676    0.003292    0.009371       0.002521   \n",
       "2020-03-17 11:25:00+13:00       NaN    0.015414         NaN            NaN   \n",
       "2020-03-17 11:25:00+13:00  5.211829    0.002906    0.008553       0.002305   \n",
       "...                             ...         ...         ...            ...   \n",
       "2020-03-17 11:25:00+13:00  0.000000    0.000000    0.001036       0.000000   \n",
       "2020-03-17 11:25:00+13:00  0.000000    0.000000    0.001036       0.000000   \n",
       "2020-03-17 11:25:00+13:00  0.000000    0.000000    0.001036       0.000000   \n",
       "2020-03-17 11:25:00+13:00  0.000000    0.000000    0.001036       0.000000   \n",
       "2020-03-17 11:25:00+13:00  0.000000    0.000000    0.001036       0.000000   \n",
       "\n",
       "                            error_y  \n",
       "datetime                             \n",
       "2020-03-17 11:25:00+13:00  0.004055  \n",
       "2020-03-17 11:25:00+13:00       NaN  \n",
       "2020-03-17 11:25:00+13:00  0.003558  \n",
       "2020-03-17 11:25:00+13:00       NaN  \n",
       "2020-03-17 11:25:00+13:00  0.003342  \n",
       "...                             ...  \n",
       "2020-03-17 11:25:00+13:00  0.001036  \n",
       "2020-03-17 11:25:00+13:00  0.001036  \n",
       "2020-03-17 11:25:00+13:00  0.001036  \n",
       "2020-03-17 11:25:00+13:00  0.001036  \n",
       "2020-03-17 11:25:00+13:00  0.001036  \n",
       "\n",
       "[342 rows x 14 columns]"
      ],
      "text/html": "<div>\n<style scoped>\n    .dataframe tbody tr th:only-of-type {\n        vertical-align: middle;\n    }\n\n    .dataframe tbody tr th {\n        vertical-align: top;\n    }\n\n    .dataframe thead th {\n        text-align: right;\n    }\n</style>\n<table border=\"1\" class=\"dataframe\">\n  <thead>\n    <tr style=\"text-align: right;\">\n      <th></th>\n      <th>start_date</th>\n      <th>stop_date</th>\n      <th>size</th>\n      <th>process</th>\n      <th>type</th>\n      <th>location</th>\n      <th>filtered</th>\n      <th>temp</th>\n      <th>inp/l</th>\n      <th>inp/m^3</th>\n      <th>IN/L_lower</th>\n      <th>IN/L_upper</th>\n      <th>error_minus_y</th>\n      <th>error_y</th>\n    </tr>\n    <tr>\n      <th>datetime</th>\n      <th></th>\n      <th></th>\n      <th></th>\n      <th></th>\n      <th></th>\n      <th></th>\n      <th></th>\n      <th></th>\n      <th></th>\n      <th></th>\n      <th></th>\n      <th></th>\n      <th></th>\n      <th></th>\n    </tr>\n  </thead>\n  <tbody>\n    <tr>\n      <th>2020-03-17 11:25:00+13:00</th>\n      <td>17032020 11h25</td>\n      <td>18032020 09h45</td>\n      <td>sub</td>\n      <td>UH</td>\n      <td>aerosol</td>\n      <td>bubbler</td>\n      <td>uf</td>\n      <td>-18.0</td>\n      <td>0.007185</td>\n      <td>7.184567</td>\n      <td>0.004165</td>\n      <td>0.011240</td>\n      <td>0.003019</td>\n      <td>0.004055</td>\n    </tr>\n    <tr>\n      <th>2020-03-17 11:25:00+13:00</th>\n      <td>17032020 11h25</td>\n      <td>18032020 09h45</td>\n      <td>sub</td>\n      <td>H</td>\n      <td>aerosol</td>\n      <td>bubbler</td>\n      <td>uf</td>\n      <td>-18.0</td>\n      <td>NaN</td>\n      <td>NaN</td>\n      <td>0.015414</td>\n      <td>NaN</td>\n      <td>NaN</td>\n      <td>NaN</td>\n    </tr>\n    <tr>\n      <th>2020-03-17 11:25:00+13:00</th>\n      <td>17032020 11h25</td>\n      <td>18032020 09h45</td>\n      <td>sub</td>\n      <td>UH</td>\n      <td>aerosol</td>\n      <td>bubbler</td>\n      <td>uf</td>\n      <td>-17.9</td>\n      <td>0.005814</td>\n      <td>5.813676</td>\n      <td>0.003292</td>\n      <td>0.009371</td>\n      <td>0.002521</td>\n      <td>0.003558</td>\n    </tr>\n    <tr>\n      <th>2020-03-17 11:25:00+13:00</th>\n      <td>17032020 11h25</td>\n      <td>18032020 09h45</td>\n      <td>sub</td>\n      <td>H</td>\n      <td>aerosol</td>\n      <td>bubbler</td>\n      <td>uf</td>\n      <td>-17.9</td>\n      <td>NaN</td>\n      <td>NaN</td>\n      <td>0.015414</td>\n      <td>NaN</td>\n      <td>NaN</td>\n      <td>NaN</td>\n    </tr>\n    <tr>\n      <th>2020-03-17 11:25:00+13:00</th>\n      <td>17032020 11h25</td>\n      <td>18032020 09h45</td>\n      <td>sub</td>\n      <td>UH</td>\n      <td>aerosol</td>\n      <td>bubbler</td>\n      <td>uf</td>\n      <td>-17.8</td>\n      <td>0.005212</td>\n      <td>5.211829</td>\n      <td>0.002906</td>\n      <td>0.008553</td>\n      <td>0.002305</td>\n      <td>0.003342</td>\n    </tr>\n    <tr>\n      <th>...</th>\n      <td>...</td>\n      <td>...</td>\n      <td>...</td>\n      <td>...</td>\n      <td>...</td>\n      <td>...</td>\n      <td>...</td>\n      <td>...</td>\n      <td>...</td>\n      <td>...</td>\n      <td>...</td>\n      <td>...</td>\n      <td>...</td>\n      <td>...</td>\n    </tr>\n    <tr>\n      <th>2020-03-17 11:25:00+13:00</th>\n      <td>17032020 11h25</td>\n      <td>18032020 09h45</td>\n      <td>sub</td>\n      <td>H</td>\n      <td>aerosol</td>\n      <td>bubbler</td>\n      <td>uf</td>\n      <td>-1.2</td>\n      <td>0.000000</td>\n      <td>0.000000</td>\n      <td>0.000000</td>\n      <td>0.001036</td>\n      <td>0.000000</td>\n      <td>0.001036</td>\n    </tr>\n    <tr>\n      <th>2020-03-17 11:25:00+13:00</th>\n      <td>17032020 11h25</td>\n      <td>18032020 09h45</td>\n      <td>sub</td>\n      <td>UH</td>\n      <td>aerosol</td>\n      <td>bubbler</td>\n      <td>uf</td>\n      <td>-1.1</td>\n      <td>0.000000</td>\n      <td>0.000000</td>\n      <td>0.000000</td>\n      <td>0.001036</td>\n      <td>0.000000</td>\n      <td>0.001036</td>\n    </tr>\n    <tr>\n      <th>2020-03-17 11:25:00+13:00</th>\n      <td>17032020 11h25</td>\n      <td>18032020 09h45</td>\n      <td>sub</td>\n      <td>H</td>\n      <td>aerosol</td>\n      <td>bubbler</td>\n      <td>uf</td>\n      <td>-1.1</td>\n      <td>0.000000</td>\n      <td>0.000000</td>\n      <td>0.000000</td>\n      <td>0.001036</td>\n      <td>0.000000</td>\n      <td>0.001036</td>\n    </tr>\n    <tr>\n      <th>2020-03-17 11:25:00+13:00</th>\n      <td>17032020 11h25</td>\n      <td>18032020 09h45</td>\n      <td>sub</td>\n      <td>UH</td>\n      <td>aerosol</td>\n      <td>bubbler</td>\n      <td>uf</td>\n      <td>-1.0</td>\n      <td>0.000000</td>\n      <td>0.000000</td>\n      <td>0.000000</td>\n      <td>0.001036</td>\n      <td>0.000000</td>\n      <td>0.001036</td>\n    </tr>\n    <tr>\n      <th>2020-03-17 11:25:00+13:00</th>\n      <td>17032020 11h25</td>\n      <td>18032020 09h45</td>\n      <td>sub</td>\n      <td>H</td>\n      <td>aerosol</td>\n      <td>bubbler</td>\n      <td>uf</td>\n      <td>-1.0</td>\n      <td>0.000000</td>\n      <td>0.000000</td>\n      <td>0.000000</td>\n      <td>0.001036</td>\n      <td>0.000000</td>\n      <td>0.001036</td>\n    </tr>\n  </tbody>\n</table>\n<p>342 rows × 14 columns</p>\n</div>"
     },
     "metadata": {},
     "execution_count": 44
    }
   ],
   "source": [
    "bubbler_df"
   ]
  },
  {
   "source": [
    "<div class=\"alert alert-block alert-info\" style=\"outline-style: solid;\">\n",
    "<h2>3.0 Analysis</h2>\n",
    "</div>"
   ],
   "cell_type": "markdown",
   "metadata": {}
  },
  {
   "source": [
    "Now we'll begin analysis of our INP data. To start, we'll calculate the surface area normalized INP concentrations. Some of the code below may seem complicated, but just follow along and it will make sense. In the future I'd like to make this process a bit less 'hacky'."
   ],
   "cell_type": "markdown",
   "metadata": {}
  },
  {
   "source": [
    "<div class=\"alert alert-block alert-info\" style=\"outline-style: solid;\">\n",
    "<h2>3.1 Calculate Surface Area Normalized INP Concentrations</h2>\n",
    "</div>"
   ],
   "cell_type": "markdown",
   "metadata": {}
  },
  {
   "source": [
    "<div class=\"alert alert-block alert-info\" style=\"outline-style: solid;\">\n",
    "<h3>3.1.1 Clean Inverted SMPS Data</h3>\n",
    "</div>\n"
   ],
   "cell_type": "markdown",
   "metadata": {}
  },
  {
   "cell_type": "code",
   "execution_count": 11,
   "metadata": {},
   "outputs": [],
   "source": [
    "# Define constants\n",
    "instr= 'scanotron'\n",
    "\n",
    "# Note that we have placed the inverted data in the 'interim' folder. This is because technically the raw data from the scanotron has already been preprocessed when we inverted it.\n",
    "inpath= \"..\\\\data\\\\interim\\\\\"+instr+\"\\\\inverted\\\\pro\\\\\" \n",
    "outpath = '..\\\\data\\\\interim\\\\'+instr+'\\\\combinedtimeseries\\\\'\n",
    "\n",
    "# Call the clean_inverted function to prepare smps data. Give the input path, nbins, and outputh path.\n",
    "df, outName, dLogDp=pt.clean_inverted(inpath=inpath, nbins=26, outpath=outpath)"
   ]
  },
  {
   "source": [
    "<div class=\"alert alert-block alert-info\" style=\"outline-style: solid;\">\n",
    "<h3>3.1.2 Prepare Cleaned SMPS Data</h3>\n",
    "</div>"
   ],
   "cell_type": "markdown",
   "metadata": {}
  },
  {
   "cell_type": "code",
   "execution_count": 15,
   "metadata": {},
   "outputs": [],
   "source": [
    "# load scanotron data that was cleaned using pt.clean_inverted. Look inside the combinedtimeseries folder for the dates.\n",
    "dates = '2020-03-16_2020-03-18'\n",
    "instr = 'scanotron' \n",
    "\n",
    "dN, dNdLogDp_full = pt.load_scano_data(dates, instr)"
   ]
  },
  {
   "source": [
    "This next step is mandatory. We want to average SMPS across the times that we were sampling INP. To do this, we create a dictionary where the keys are the day number or analysis number and the values are the INP sampling time. \n",
    "\n",
    "For example, here we have one INP sample that we collected from 11:25 on 2020-03-17 until 09:45 on 2020-03-18.  "
   ],
   "cell_type": "markdown",
   "metadata": {}
  },
  {
   "cell_type": "code",
   "execution_count": 16,
   "metadata": {},
   "outputs": [],
   "source": [
    "in_time_dict = {    \n",
    "    '17': ['2020-03-17 11:25','2020-03-18 09:45'],\n",
    "    }"
   ]
  },
  {
   "source": [
    "Next, we will loop through the dictionary we just created and extract the corresponding SMPS data."
   ],
   "cell_type": "markdown",
   "metadata": {}
  },
  {
   "cell_type": "code",
   "execution_count": 17,
   "metadata": {},
   "outputs": [],
   "source": [
    "# create empty smps dictionary\n",
    "smps_dict = {}\n",
    "# loop through each key in the in_time_dict and index those times from the dNdlogDp_full dataframe and save each of them as a dictionary in the smps dictionary\n",
    "for day in in_time_dict:\n",
    "    smps_dict[day] = dNdLogDp_full.loc[in_time_dict[day][0]:in_time_dict[day][1]]"
   ]
  },
  {
   "source": [
    "The following piece of code is optional. We use it to remove outliers."
   ],
   "cell_type": "markdown",
   "metadata": {}
  },
  {
   "cell_type": "code",
   "execution_count": 18,
   "metadata": {},
   "outputs": [],
   "source": [
    "# loop through the dictionary and remove massive outliers\n",
    "from scipy import stats\n",
    "for day in in_time_dict:\n",
    "    z = abs(stats.zscore(smps_dict[day].sum(axis=1)))\n",
    "    smps_dict[day] = smps_dict[day][(z<1)]"
   ]
  },
  {
   "source": [
    "Now we'll take our extracted SMPS data and average it and calculate standard deviation."
   ],
   "cell_type": "markdown",
   "metadata": {}
  },
  {
   "cell_type": "code",
   "execution_count": 19,
   "metadata": {},
   "outputs": [],
   "source": [
    "# create a daily standard deviation from the smps dictionary\n",
    "smps_daily_std = {}\n",
    "smps_daily_mean = {}\n",
    "\n",
    "# create a daily mean dictionary from the smps dictionary\n",
    "for day in smps_dict:\n",
    "    smps_daily_mean[day] = smps_dict[day].mean()\n",
    "    smps_daily_std[day] = smps_dict[day].std()\n",
    "\n",
    "# turn them into dataframes\n",
    "smps_daily_mean_df = pd.DataFrame(smps_daily_mean)\n",
    "smps_daily_std_df = pd.DataFrame(smps_daily_std)\n",
    "\n",
    "# clean it up a bit\n",
    "smps_daily_mean_df.reset_index(inplace=True)\n",
    "smps_daily_mean_df=smps_daily_mean_df.rename(columns={'index':'Dp'})\n",
    "smps_daily_mean_df.set_index('Dp', inplace=True)\n",
    "\n",
    "smps_daily_std_df.reset_index(inplace=True)\n",
    "smps_daily_std_df=smps_daily_std_df.rename(columns={'index':'Dp'})\n",
    "smps_daily_std_df.set_index('Dp', inplace=True)\n",
    "smps_daily_mean_df.index=smps_daily_mean_df.index.astype(int)\n",
    "smps_daily_std_df.index=smps_daily_std_df.index.astype(int)"
   ]
  },
  {
   "source": [
    "Finally, we have a cleaned dataframe of the average particle size distibution across our INP sampling time. Each column corresponds to a specific INP sample and each row is the average particle count for a given diameter."
   ],
   "cell_type": "markdown",
   "metadata": {}
  },
  {
   "cell_type": "code",
   "execution_count": 20,
   "metadata": {},
   "outputs": [
    {
     "output_type": "execute_result",
     "data": {
      "text/plain": [
       "            17\n",
       "Dp            \n",
       "10  519.529412\n",
       "12  496.356471\n",
       "14  443.970588\n",
       "16  479.923529\n",
       "19  546.934118"
      ],
      "text/html": "<div>\n<style scoped>\n    .dataframe tbody tr th:only-of-type {\n        vertical-align: middle;\n    }\n\n    .dataframe tbody tr th {\n        vertical-align: top;\n    }\n\n    .dataframe thead th {\n        text-align: right;\n    }\n</style>\n<table border=\"1\" class=\"dataframe\">\n  <thead>\n    <tr style=\"text-align: right;\">\n      <th></th>\n      <th>17</th>\n    </tr>\n    <tr>\n      <th>Dp</th>\n      <th></th>\n    </tr>\n  </thead>\n  <tbody>\n    <tr>\n      <th>10</th>\n      <td>519.529412</td>\n    </tr>\n    <tr>\n      <th>12</th>\n      <td>496.356471</td>\n    </tr>\n    <tr>\n      <th>14</th>\n      <td>443.970588</td>\n    </tr>\n    <tr>\n      <th>16</th>\n      <td>479.923529</td>\n    </tr>\n    <tr>\n      <th>19</th>\n      <td>546.934118</td>\n    </tr>\n  </tbody>\n</table>\n</div>"
     },
     "metadata": {},
     "execution_count": 20
    }
   ],
   "source": [
    "smps_daily_mean_df.head()"
   ]
  },
  {
   "source": [
    "We also have a dataframe for the standard deviation."
   ],
   "cell_type": "markdown",
   "metadata": {}
  },
  {
   "cell_type": "code",
   "execution_count": 22,
   "metadata": {},
   "outputs": [
    {
     "output_type": "execute_result",
     "data": {
      "text/plain": [
       "            17\n",
       "Dp            \n",
       "10  308.922551\n",
       "12  454.732329\n",
       "14  273.922232\n",
       "16  294.926888\n",
       "19  365.612492"
      ],
      "text/html": "<div>\n<style scoped>\n    .dataframe tbody tr th:only-of-type {\n        vertical-align: middle;\n    }\n\n    .dataframe tbody tr th {\n        vertical-align: top;\n    }\n\n    .dataframe thead th {\n        text-align: right;\n    }\n</style>\n<table border=\"1\" class=\"dataframe\">\n  <thead>\n    <tr style=\"text-align: right;\">\n      <th></th>\n      <th>17</th>\n    </tr>\n    <tr>\n      <th>Dp</th>\n      <th></th>\n    </tr>\n  </thead>\n  <tbody>\n    <tr>\n      <th>10</th>\n      <td>308.922551</td>\n    </tr>\n    <tr>\n      <th>12</th>\n      <td>454.732329</td>\n    </tr>\n    <tr>\n      <th>14</th>\n      <td>273.922232</td>\n    </tr>\n    <tr>\n      <th>16</th>\n      <td>294.926888</td>\n    </tr>\n    <tr>\n      <th>19</th>\n      <td>365.612492</td>\n    </tr>\n  </tbody>\n</table>\n</div>"
     },
     "metadata": {},
     "execution_count": 22
    }
   ],
   "source": [
    "smps_daily_std_df.head()"
   ]
  },
  {
   "source": [
    "Now we will calculate the surface area. We pass it the two dataframes we just created, along with the number of bins."
   ],
   "cell_type": "markdown",
   "metadata": {}
  },
  {
   "cell_type": "code",
   "execution_count": 24,
   "metadata": {},
   "outputs": [],
   "source": [
    "dAdLogDp, dA_total, dN_total, dAdLogDp_std = pt.surface_area(smps_daily_mean_df, smps_daily_std_df, 25)"
   ]
  },
  {
   "cell_type": "code",
   "execution_count": null,
   "metadata": {},
   "outputs": [],
   "source": [
    "pt.plot_number_dist()"
   ]
  },
  {
   "source": [
    "Finally, we create plots by passing the data to the pt.plot_number_dist and pt.plot_surface_dist() functions.\n",
    "\n",
    " Note that the functions require the dataframes to  only contain the particle count (or surface area) data, where rows are size bins (as the index) and columns are the mean of daily (or other timespan) data. This means we have to drop a few columns. See below for explanation."
   ],
   "cell_type": "markdown",
   "metadata": {}
  },
  {
   "cell_type": "code",
   "execution_count": 33,
   "metadata": {},
   "outputs": [
    {
     "output_type": "execute_result",
     "data": {
      "text/plain": [
       "            17        Dp (m)      Dp2 (m2)       factorA\n",
       "Dp                                                      \n",
       "10  519.529412  1.000000e-08  1.000000e-16  3.141590e-16\n",
       "12  496.356471  1.200000e-08  1.440000e-16  4.523890e-16\n",
       "14  443.970588  1.400000e-08  1.960000e-16  6.157516e-16\n",
       "16  479.923529  1.600000e-08  2.560000e-16  8.042470e-16\n",
       "19  546.934118  1.900000e-08  3.610000e-16  1.134114e-15"
      ],
      "text/html": "<div>\n<style scoped>\n    .dataframe tbody tr th:only-of-type {\n        vertical-align: middle;\n    }\n\n    .dataframe tbody tr th {\n        vertical-align: top;\n    }\n\n    .dataframe thead th {\n        text-align: right;\n    }\n</style>\n<table border=\"1\" class=\"dataframe\">\n  <thead>\n    <tr style=\"text-align: right;\">\n      <th></th>\n      <th>17</th>\n      <th>Dp (m)</th>\n      <th>Dp2 (m2)</th>\n      <th>factorA</th>\n    </tr>\n    <tr>\n      <th>Dp</th>\n      <th></th>\n      <th></th>\n      <th></th>\n      <th></th>\n    </tr>\n  </thead>\n  <tbody>\n    <tr>\n      <th>10</th>\n      <td>519.529412</td>\n      <td>1.000000e-08</td>\n      <td>1.000000e-16</td>\n      <td>3.141590e-16</td>\n    </tr>\n    <tr>\n      <th>12</th>\n      <td>496.356471</td>\n      <td>1.200000e-08</td>\n      <td>1.440000e-16</td>\n      <td>4.523890e-16</td>\n    </tr>\n    <tr>\n      <th>14</th>\n      <td>443.970588</td>\n      <td>1.400000e-08</td>\n      <td>1.960000e-16</td>\n      <td>6.157516e-16</td>\n    </tr>\n    <tr>\n      <th>16</th>\n      <td>479.923529</td>\n      <td>1.600000e-08</td>\n      <td>2.560000e-16</td>\n      <td>8.042470e-16</td>\n    </tr>\n    <tr>\n      <th>19</th>\n      <td>546.934118</td>\n      <td>1.900000e-08</td>\n      <td>3.610000e-16</td>\n      <td>1.134114e-15</td>\n    </tr>\n  </tbody>\n</table>\n</div>"
     },
     "metadata": {},
     "execution_count": 33
    }
   ],
   "source": [
    "# Our smps dataframe has 3 columns that we don't need.\n",
    "smps_daily_mean_df.head()"
   ]
  },
  {
   "cell_type": "code",
   "execution_count": 35,
   "metadata": {},
   "outputs": [
    {
     "output_type": "execute_result",
     "data": {
      "text/plain": [
       "            17\n",
       "Dp            \n",
       "10  519.529412\n",
       "12  496.356471\n",
       "14  443.970588\n",
       "16  479.923529\n",
       "19  546.934118"
      ],
      "text/html": "<div>\n<style scoped>\n    .dataframe tbody tr th:only-of-type {\n        vertical-align: middle;\n    }\n\n    .dataframe tbody tr th {\n        vertical-align: top;\n    }\n\n    .dataframe thead th {\n        text-align: right;\n    }\n</style>\n<table border=\"1\" class=\"dataframe\">\n  <thead>\n    <tr style=\"text-align: right;\">\n      <th></th>\n      <th>17</th>\n    </tr>\n    <tr>\n      <th>Dp</th>\n      <th></th>\n    </tr>\n  </thead>\n  <tbody>\n    <tr>\n      <th>10</th>\n      <td>519.529412</td>\n    </tr>\n    <tr>\n      <th>12</th>\n      <td>496.356471</td>\n    </tr>\n    <tr>\n      <th>14</th>\n      <td>443.970588</td>\n    </tr>\n    <tr>\n      <th>16</th>\n      <td>479.923529</td>\n    </tr>\n    <tr>\n      <th>19</th>\n      <td>546.934118</td>\n    </tr>\n  </tbody>\n</table>\n</div>"
     },
     "metadata": {},
     "execution_count": 35
    }
   ],
   "source": [
    "# This is how the dataframe will need to look. We've dropped the three extra columns\n",
    "smps_daily_mean_df.drop(columns=['Dp (m)', 'Dp2 (m2)', 'factorA']).head()"
   ]
  },
  {
   "cell_type": "code",
   "execution_count": 25,
   "metadata": {},
   "outputs": [],
   "source": [
    "fig3 = pt.plot_number_dist(smps_daily_mean_df.drop(columns=['Dp (m)', 'Dp2 (m2)', 'factorA']), smps_daily_std_df.drop(columns=['Dp (m)', 'Dp2 (m2)', 'factorA']))\n",
    "fig4 = pt.plot_surface_dist(dAdLogDp, dAdLogDp_std)"
   ]
  },
  {
   "cell_type": "code",
   "execution_count": 28,
   "metadata": {},
   "outputs": [
    {
     "output_type": "display_data",
     "data": {
      "application/vnd.plotly.v1+json": {
       "config": {
        "plotlyServerURL": "https://plot.ly"
       },
       "data": [
        {
         "error_y": {
          "array": [
           308.9225510982175,
           454.7323290231556,
           273.92223167461646,
           294.92688789203453,
           365.61249150046336,
           433.00081935283225,
           455.44625332070245,
           360.9412603537732,
           395.03009988142037,
           430.55236384347546,
           571.5368007516623,
           565.0578752168116,
           504.3131163189358,
           548.6064702207467,
           593.7851353720432,
           625.5363868800314,
           628.4670956737018,
           741.9499340531387,
           511.4776414854278,
           428.58178537625986,
           461.34501018540277,
           369.13817332104946,
           390.2731448786163,
           288.1726829456228,
           214.5703367797383,
           237.15770797885003
          ]
         },
         "hovertemplate": "sample=17<br>Dp=%{x}<br>counts=%{y}<extra></extra>",
         "legendgroup": "17",
         "line": {
          "color": "#636efa",
          "dash": "solid"
         },
         "mode": "markers+lines",
         "name": "17",
         "orientation": "v",
         "showlegend": true,
         "type": "scatter",
         "x": [
          10,
          12,
          14,
          16,
          19,
          22,
          26,
          30,
          35,
          41,
          48,
          56,
          65,
          76,
          89,
          105,
          122,
          143,
          167,
          196,
          229,
          267,
          313,
          366,
          428,
          500
         ],
         "xaxis": "x",
         "y": [
          519.5294117647057,
          496.3564705882353,
          443.97058823529414,
          479.9235294117649,
          546.9341176470587,
          645.8141176470584,
          728.0529411764709,
          796.3670588235294,
          882.7082352941175,
          972.0235294117647,
          1123.1576470588234,
          1231.8164705882348,
          1294.6894117647055,
          1353.3152941176468,
          1433.7058823529417,
          1466.344705882353,
          1433.543529411764,
          1342.5188235294117,
          1300.984705882353,
          1174.1223529411766,
          1323.2423529411772,
          1122.2082352941181,
          1280.6023529411764,
          994.6705882352941,
          753.2529411764705,
          627.5447058823529
         ],
         "yaxis": "y"
        }
       ],
       "layout": {
        "annotations": [
         {
          "font": {},
          "showarrow": false,
          "text": "sample=17",
          "x": 0.5,
          "xanchor": "center",
          "xref": "paper",
          "y": 1,
          "yanchor": "bottom",
          "yref": "paper"
         }
        ],
        "height": 400,
        "legend": {
         "title": {
          "text": "sample"
         },
         "tracegroupgap": 0
        },
        "margin": {
         "t": 60
        },
        "showlegend": false,
        "template": {
         "data": {
          "bar": [
           {
            "error_x": {
             "color": "#2a3f5f"
            },
            "error_y": {
             "color": "#2a3f5f"
            },
            "marker": {
             "line": {
              "color": "white",
              "width": 0.5
             }
            },
            "type": "bar"
           }
          ],
          "barpolar": [
           {
            "marker": {
             "line": {
              "color": "white",
              "width": 0.5
             }
            },
            "type": "barpolar"
           }
          ],
          "carpet": [
           {
            "aaxis": {
             "endlinecolor": "#2a3f5f",
             "gridcolor": "#C8D4E3",
             "linecolor": "#C8D4E3",
             "minorgridcolor": "#C8D4E3",
             "startlinecolor": "#2a3f5f"
            },
            "baxis": {
             "endlinecolor": "#2a3f5f",
             "gridcolor": "#C8D4E3",
             "linecolor": "#C8D4E3",
             "minorgridcolor": "#C8D4E3",
             "startlinecolor": "#2a3f5f"
            },
            "type": "carpet"
           }
          ],
          "choropleth": [
           {
            "colorbar": {
             "outlinewidth": 0,
             "ticks": ""
            },
            "type": "choropleth"
           }
          ],
          "contour": [
           {
            "colorbar": {
             "outlinewidth": 0,
             "ticks": ""
            },
            "colorscale": [
             [
              0,
              "#0d0887"
             ],
             [
              0.1111111111111111,
              "#46039f"
             ],
             [
              0.2222222222222222,
              "#7201a8"
             ],
             [
              0.3333333333333333,
              "#9c179e"
             ],
             [
              0.4444444444444444,
              "#bd3786"
             ],
             [
              0.5555555555555556,
              "#d8576b"
             ],
             [
              0.6666666666666666,
              "#ed7953"
             ],
             [
              0.7777777777777778,
              "#fb9f3a"
             ],
             [
              0.8888888888888888,
              "#fdca26"
             ],
             [
              1,
              "#f0f921"
             ]
            ],
            "type": "contour"
           }
          ],
          "contourcarpet": [
           {
            "colorbar": {
             "outlinewidth": 0,
             "ticks": ""
            },
            "type": "contourcarpet"
           }
          ],
          "heatmap": [
           {
            "colorbar": {
             "outlinewidth": 0,
             "ticks": ""
            },
            "colorscale": [
             [
              0,
              "#0d0887"
             ],
             [
              0.1111111111111111,
              "#46039f"
             ],
             [
              0.2222222222222222,
              "#7201a8"
             ],
             [
              0.3333333333333333,
              "#9c179e"
             ],
             [
              0.4444444444444444,
              "#bd3786"
             ],
             [
              0.5555555555555556,
              "#d8576b"
             ],
             [
              0.6666666666666666,
              "#ed7953"
             ],
             [
              0.7777777777777778,
              "#fb9f3a"
             ],
             [
              0.8888888888888888,
              "#fdca26"
             ],
             [
              1,
              "#f0f921"
             ]
            ],
            "type": "heatmap"
           }
          ],
          "heatmapgl": [
           {
            "colorbar": {
             "outlinewidth": 0,
             "ticks": ""
            },
            "colorscale": [
             [
              0,
              "#0d0887"
             ],
             [
              0.1111111111111111,
              "#46039f"
             ],
             [
              0.2222222222222222,
              "#7201a8"
             ],
             [
              0.3333333333333333,
              "#9c179e"
             ],
             [
              0.4444444444444444,
              "#bd3786"
             ],
             [
              0.5555555555555556,
              "#d8576b"
             ],
             [
              0.6666666666666666,
              "#ed7953"
             ],
             [
              0.7777777777777778,
              "#fb9f3a"
             ],
             [
              0.8888888888888888,
              "#fdca26"
             ],
             [
              1,
              "#f0f921"
             ]
            ],
            "type": "heatmapgl"
           }
          ],
          "histogram": [
           {
            "marker": {
             "colorbar": {
              "outlinewidth": 0,
              "ticks": ""
             }
            },
            "type": "histogram"
           }
          ],
          "histogram2d": [
           {
            "colorbar": {
             "outlinewidth": 0,
             "ticks": ""
            },
            "colorscale": [
             [
              0,
              "#0d0887"
             ],
             [
              0.1111111111111111,
              "#46039f"
             ],
             [
              0.2222222222222222,
              "#7201a8"
             ],
             [
              0.3333333333333333,
              "#9c179e"
             ],
             [
              0.4444444444444444,
              "#bd3786"
             ],
             [
              0.5555555555555556,
              "#d8576b"
             ],
             [
              0.6666666666666666,
              "#ed7953"
             ],
             [
              0.7777777777777778,
              "#fb9f3a"
             ],
             [
              0.8888888888888888,
              "#fdca26"
             ],
             [
              1,
              "#f0f921"
             ]
            ],
            "type": "histogram2d"
           }
          ],
          "histogram2dcontour": [
           {
            "colorbar": {
             "outlinewidth": 0,
             "ticks": ""
            },
            "colorscale": [
             [
              0,
              "#0d0887"
             ],
             [
              0.1111111111111111,
              "#46039f"
             ],
             [
              0.2222222222222222,
              "#7201a8"
             ],
             [
              0.3333333333333333,
              "#9c179e"
             ],
             [
              0.4444444444444444,
              "#bd3786"
             ],
             [
              0.5555555555555556,
              "#d8576b"
             ],
             [
              0.6666666666666666,
              "#ed7953"
             ],
             [
              0.7777777777777778,
              "#fb9f3a"
             ],
             [
              0.8888888888888888,
              "#fdca26"
             ],
             [
              1,
              "#f0f921"
             ]
            ],
            "type": "histogram2dcontour"
           }
          ],
          "mesh3d": [
           {
            "colorbar": {
             "outlinewidth": 0,
             "ticks": ""
            },
            "type": "mesh3d"
           }
          ],
          "parcoords": [
           {
            "line": {
             "colorbar": {
              "outlinewidth": 0,
              "ticks": ""
             }
            },
            "type": "parcoords"
           }
          ],
          "pie": [
           {
            "automargin": true,
            "type": "pie"
           }
          ],
          "scatter": [
           {
            "marker": {
             "colorbar": {
              "outlinewidth": 0,
              "ticks": ""
             }
            },
            "type": "scatter"
           }
          ],
          "scatter3d": [
           {
            "line": {
             "colorbar": {
              "outlinewidth": 0,
              "ticks": ""
             }
            },
            "marker": {
             "colorbar": {
              "outlinewidth": 0,
              "ticks": ""
             }
            },
            "type": "scatter3d"
           }
          ],
          "scattercarpet": [
           {
            "marker": {
             "colorbar": {
              "outlinewidth": 0,
              "ticks": ""
             }
            },
            "type": "scattercarpet"
           }
          ],
          "scattergeo": [
           {
            "marker": {
             "colorbar": {
              "outlinewidth": 0,
              "ticks": ""
             }
            },
            "type": "scattergeo"
           }
          ],
          "scattergl": [
           {
            "marker": {
             "colorbar": {
              "outlinewidth": 0,
              "ticks": ""
             }
            },
            "type": "scattergl"
           }
          ],
          "scattermapbox": [
           {
            "marker": {
             "colorbar": {
              "outlinewidth": 0,
              "ticks": ""
             }
            },
            "type": "scattermapbox"
           }
          ],
          "scatterpolar": [
           {
            "marker": {
             "colorbar": {
              "outlinewidth": 0,
              "ticks": ""
             }
            },
            "type": "scatterpolar"
           }
          ],
          "scatterpolargl": [
           {
            "marker": {
             "colorbar": {
              "outlinewidth": 0,
              "ticks": ""
             }
            },
            "type": "scatterpolargl"
           }
          ],
          "scatterternary": [
           {
            "marker": {
             "colorbar": {
              "outlinewidth": 0,
              "ticks": ""
             }
            },
            "type": "scatterternary"
           }
          ],
          "surface": [
           {
            "colorbar": {
             "outlinewidth": 0,
             "ticks": ""
            },
            "colorscale": [
             [
              0,
              "#0d0887"
             ],
             [
              0.1111111111111111,
              "#46039f"
             ],
             [
              0.2222222222222222,
              "#7201a8"
             ],
             [
              0.3333333333333333,
              "#9c179e"
             ],
             [
              0.4444444444444444,
              "#bd3786"
             ],
             [
              0.5555555555555556,
              "#d8576b"
             ],
             [
              0.6666666666666666,
              "#ed7953"
             ],
             [
              0.7777777777777778,
              "#fb9f3a"
             ],
             [
              0.8888888888888888,
              "#fdca26"
             ],
             [
              1,
              "#f0f921"
             ]
            ],
            "type": "surface"
           }
          ],
          "table": [
           {
            "cells": {
             "fill": {
              "color": "#EBF0F8"
             },
             "line": {
              "color": "white"
             }
            },
            "header": {
             "fill": {
              "color": "#C8D4E3"
             },
             "line": {
              "color": "white"
             }
            },
            "type": "table"
           }
          ]
         },
         "layout": {
          "annotationdefaults": {
           "arrowcolor": "#2a3f5f",
           "arrowhead": 0,
           "arrowwidth": 1
          },
          "coloraxis": {
           "colorbar": {
            "outlinewidth": 0,
            "ticks": ""
           }
          },
          "colorscale": {
           "diverging": [
            [
             0,
             "#8e0152"
            ],
            [
             0.1,
             "#c51b7d"
            ],
            [
             0.2,
             "#de77ae"
            ],
            [
             0.3,
             "#f1b6da"
            ],
            [
             0.4,
             "#fde0ef"
            ],
            [
             0.5,
             "#f7f7f7"
            ],
            [
             0.6,
             "#e6f5d0"
            ],
            [
             0.7,
             "#b8e186"
            ],
            [
             0.8,
             "#7fbc41"
            ],
            [
             0.9,
             "#4d9221"
            ],
            [
             1,
             "#276419"
            ]
           ],
           "sequential": [
            [
             0,
             "#0d0887"
            ],
            [
             0.1111111111111111,
             "#46039f"
            ],
            [
             0.2222222222222222,
             "#7201a8"
            ],
            [
             0.3333333333333333,
             "#9c179e"
            ],
            [
             0.4444444444444444,
             "#bd3786"
            ],
            [
             0.5555555555555556,
             "#d8576b"
            ],
            [
             0.6666666666666666,
             "#ed7953"
            ],
            [
             0.7777777777777778,
             "#fb9f3a"
            ],
            [
             0.8888888888888888,
             "#fdca26"
            ],
            [
             1,
             "#f0f921"
            ]
           ],
           "sequentialminus": [
            [
             0,
             "#0d0887"
            ],
            [
             0.1111111111111111,
             "#46039f"
            ],
            [
             0.2222222222222222,
             "#7201a8"
            ],
            [
             0.3333333333333333,
             "#9c179e"
            ],
            [
             0.4444444444444444,
             "#bd3786"
            ],
            [
             0.5555555555555556,
             "#d8576b"
            ],
            [
             0.6666666666666666,
             "#ed7953"
            ],
            [
             0.7777777777777778,
             "#fb9f3a"
            ],
            [
             0.8888888888888888,
             "#fdca26"
            ],
            [
             1,
             "#f0f921"
            ]
           ]
          },
          "colorway": [
           "#636efa",
           "#EF553B",
           "#00cc96",
           "#ab63fa",
           "#FFA15A",
           "#19d3f3",
           "#FF6692",
           "#B6E880",
           "#FF97FF",
           "#FECB52"
          ],
          "font": {
           "color": "#2a3f5f"
          },
          "geo": {
           "bgcolor": "white",
           "lakecolor": "white",
           "landcolor": "white",
           "showlakes": true,
           "showland": true,
           "subunitcolor": "#C8D4E3"
          },
          "hoverlabel": {
           "align": "left"
          },
          "hovermode": "closest",
          "mapbox": {
           "style": "light"
          },
          "paper_bgcolor": "white",
          "plot_bgcolor": "white",
          "polar": {
           "angularaxis": {
            "gridcolor": "#EBF0F8",
            "linecolor": "#EBF0F8",
            "ticks": ""
           },
           "bgcolor": "white",
           "radialaxis": {
            "gridcolor": "#EBF0F8",
            "linecolor": "#EBF0F8",
            "ticks": ""
           }
          },
          "scene": {
           "xaxis": {
            "backgroundcolor": "white",
            "gridcolor": "#DFE8F3",
            "gridwidth": 2,
            "linecolor": "#EBF0F8",
            "showbackground": true,
            "ticks": "",
            "zerolinecolor": "#EBF0F8"
           },
           "yaxis": {
            "backgroundcolor": "white",
            "gridcolor": "#DFE8F3",
            "gridwidth": 2,
            "linecolor": "#EBF0F8",
            "showbackground": true,
            "ticks": "",
            "zerolinecolor": "#EBF0F8"
           },
           "zaxis": {
            "backgroundcolor": "white",
            "gridcolor": "#DFE8F3",
            "gridwidth": 2,
            "linecolor": "#EBF0F8",
            "showbackground": true,
            "ticks": "",
            "zerolinecolor": "#EBF0F8"
           }
          },
          "shapedefaults": {
           "line": {
            "color": "#2a3f5f"
           }
          },
          "ternary": {
           "aaxis": {
            "gridcolor": "#DFE8F3",
            "linecolor": "#A2B1C6",
            "ticks": ""
           },
           "baxis": {
            "gridcolor": "#DFE8F3",
            "linecolor": "#A2B1C6",
            "ticks": ""
           },
           "bgcolor": "white",
           "caxis": {
            "gridcolor": "#DFE8F3",
            "linecolor": "#A2B1C6",
            "ticks": ""
           }
          },
          "title": {
           "x": 0.05
          },
          "xaxis": {
           "automargin": true,
           "gridcolor": "#EBF0F8",
           "linecolor": "#EBF0F8",
           "ticks": "",
           "title": {
            "standoff": 15
           },
           "zerolinecolor": "#EBF0F8",
           "zerolinewidth": 2
          },
          "yaxis": {
           "automargin": true,
           "gridcolor": "#EBF0F8",
           "linecolor": "#EBF0F8",
           "ticks": "",
           "title": {
            "standoff": 15
           },
           "zerolinecolor": "#EBF0F8",
           "zerolinewidth": 2
          }
         }
        },
        "width": 400,
        "xaxis": {
         "anchor": "y",
         "domain": [
          0,
          1
         ],
         "linecolor": "black",
         "linewidth": 1,
         "nticks": 7,
         "showline": true,
         "showticklabels": true,
         "tickfont": {
          "color": "black",
          "size": 12
         },
         "ticks": "inside",
         "tickwidth": 1,
         "title": {
          "font": {
           "color": "black",
           "size": 14
          },
          "text": "D<sub>p</sub> (nm)"
         },
         "type": "log"
        },
        "yaxis": {
         "anchor": "x",
         "domain": [
          0,
          1
         ],
         "linecolor": "black",
         "linewidth": 1,
         "nticks": 7,
         "range": [
          1,
          3.8
         ],
         "showline": true,
         "tickfont": {
          "color": "black",
          "size": 14
         },
         "ticks": "inside",
         "tickwidth": 1,
         "title": {
          "font": {
           "color": "black",
           "size": 16
          },
          "text": "dN/dLogD<sub>p</sub> (particles/cm<sup>3</sup>)"
         },
         "type": "log"
        }
       }
      }
     },
     "metadata": {}
    }
   ],
   "source": [
    "fig3.update_layout(height=400, width=400)"
   ]
  },
  {
   "cell_type": "code",
   "execution_count": 30,
   "metadata": {},
   "outputs": [
    {
     "output_type": "display_data",
     "data": {
      "application/vnd.plotly.v1+json": {
       "config": {
        "plotlyServerURL": "https://plot.ly"
       },
       "data": [
        {
         "error_y": {
          "array": [
           0.09705079973046495,
           0.20571588540516322,
           0.16866806338610502,
           0.23719407660358058,
           0.41464624152943164,
           0.6583905453302015,
           0.9672379669995749,
           1.0205365087033293,
           1.5202526990709275,
           2.2737525402221275,
           4.13691102230035,
           5.566965013754674,
           6.693857807082313,
           9.954916366109876,
           14.776066621436415,
           21.666096905684277,
           29.386760377063858,
           47.664625085941566,
           44.813524536145465,
           51.724387695033755,
           76.00572364842652,
           82.67248411802491,
           120.11765607899697,
           121.27310204959196,
           123.4828733837416,
           186.26307095231886
          ]
         },
         "hovertemplate": "variable=17<br>Dp=%{x}<br>value_2=%{y}<extra></extra>",
         "legendgroup": "17",
         "line": {
          "color": "#636efa",
          "dash": "solid"
         },
         "mode": "markers+lines",
         "name": "17",
         "orientation": "v",
         "showlegend": true,
         "type": "scatter",
         "x": [
          10,
          12,
          14,
          16,
          19,
          22,
          26,
          30,
          35,
          41,
          48,
          56,
          65,
          76,
          89,
          105,
          122,
          143,
          167,
          196,
          229,
          267,
          313,
          366,
          428,
          500
         ],
         "xaxis": "x",
         "y": [
          0.16321484047058823,
          0.2245461875186824,
          0.273375617817647,
          0.3859770779557649,
          0.620285634431835,
          0.9819794561476701,
          1.5461768354821182,
          2.251672909496471,
          3.3970565220241165,
          5.133268691004471,
          8.129665917903814,
          12.135888191099477,
          17.18469448097235,
          24.557020927036607,
          35.67710333455707,
          50.788358856696185,
          67.03167195054905,
          86.24659624238977,
          113.98682036010337,
          141.7016818193009,
          218.00169152609382,
          251.33066481525924,
          394.14178255176876,
          418.59202794578675,
          433.4887988580922,
          492.87204313823537
         ],
         "yaxis": "y"
        }
       ],
       "layout": {
        "annotations": [
         {
          "font": {},
          "showarrow": false,
          "text": "17",
          "x": 0.5,
          "xanchor": "center",
          "xref": "paper",
          "y": 1,
          "yanchor": "bottom",
          "yref": "paper"
         }
        ],
        "height": 400,
        "legend": {
         "title": {
          "text": "variable"
         },
         "tracegroupgap": 0
        },
        "margin": {
         "t": 60
        },
        "showlegend": false,
        "template": {
         "data": {
          "bar": [
           {
            "error_x": {
             "color": "#2a3f5f"
            },
            "error_y": {
             "color": "#2a3f5f"
            },
            "marker": {
             "line": {
              "color": "white",
              "width": 0.5
             }
            },
            "type": "bar"
           }
          ],
          "barpolar": [
           {
            "marker": {
             "line": {
              "color": "white",
              "width": 0.5
             }
            },
            "type": "barpolar"
           }
          ],
          "carpet": [
           {
            "aaxis": {
             "endlinecolor": "#2a3f5f",
             "gridcolor": "#C8D4E3",
             "linecolor": "#C8D4E3",
             "minorgridcolor": "#C8D4E3",
             "startlinecolor": "#2a3f5f"
            },
            "baxis": {
             "endlinecolor": "#2a3f5f",
             "gridcolor": "#C8D4E3",
             "linecolor": "#C8D4E3",
             "minorgridcolor": "#C8D4E3",
             "startlinecolor": "#2a3f5f"
            },
            "type": "carpet"
           }
          ],
          "choropleth": [
           {
            "colorbar": {
             "outlinewidth": 0,
             "ticks": ""
            },
            "type": "choropleth"
           }
          ],
          "contour": [
           {
            "colorbar": {
             "outlinewidth": 0,
             "ticks": ""
            },
            "colorscale": [
             [
              0,
              "#0d0887"
             ],
             [
              0.1111111111111111,
              "#46039f"
             ],
             [
              0.2222222222222222,
              "#7201a8"
             ],
             [
              0.3333333333333333,
              "#9c179e"
             ],
             [
              0.4444444444444444,
              "#bd3786"
             ],
             [
              0.5555555555555556,
              "#d8576b"
             ],
             [
              0.6666666666666666,
              "#ed7953"
             ],
             [
              0.7777777777777778,
              "#fb9f3a"
             ],
             [
              0.8888888888888888,
              "#fdca26"
             ],
             [
              1,
              "#f0f921"
             ]
            ],
            "type": "contour"
           }
          ],
          "contourcarpet": [
           {
            "colorbar": {
             "outlinewidth": 0,
             "ticks": ""
            },
            "type": "contourcarpet"
           }
          ],
          "heatmap": [
           {
            "colorbar": {
             "outlinewidth": 0,
             "ticks": ""
            },
            "colorscale": [
             [
              0,
              "#0d0887"
             ],
             [
              0.1111111111111111,
              "#46039f"
             ],
             [
              0.2222222222222222,
              "#7201a8"
             ],
             [
              0.3333333333333333,
              "#9c179e"
             ],
             [
              0.4444444444444444,
              "#bd3786"
             ],
             [
              0.5555555555555556,
              "#d8576b"
             ],
             [
              0.6666666666666666,
              "#ed7953"
             ],
             [
              0.7777777777777778,
              "#fb9f3a"
             ],
             [
              0.8888888888888888,
              "#fdca26"
             ],
             [
              1,
              "#f0f921"
             ]
            ],
            "type": "heatmap"
           }
          ],
          "heatmapgl": [
           {
            "colorbar": {
             "outlinewidth": 0,
             "ticks": ""
            },
            "colorscale": [
             [
              0,
              "#0d0887"
             ],
             [
              0.1111111111111111,
              "#46039f"
             ],
             [
              0.2222222222222222,
              "#7201a8"
             ],
             [
              0.3333333333333333,
              "#9c179e"
             ],
             [
              0.4444444444444444,
              "#bd3786"
             ],
             [
              0.5555555555555556,
              "#d8576b"
             ],
             [
              0.6666666666666666,
              "#ed7953"
             ],
             [
              0.7777777777777778,
              "#fb9f3a"
             ],
             [
              0.8888888888888888,
              "#fdca26"
             ],
             [
              1,
              "#f0f921"
             ]
            ],
            "type": "heatmapgl"
           }
          ],
          "histogram": [
           {
            "marker": {
             "colorbar": {
              "outlinewidth": 0,
              "ticks": ""
             }
            },
            "type": "histogram"
           }
          ],
          "histogram2d": [
           {
            "colorbar": {
             "outlinewidth": 0,
             "ticks": ""
            },
            "colorscale": [
             [
              0,
              "#0d0887"
             ],
             [
              0.1111111111111111,
              "#46039f"
             ],
             [
              0.2222222222222222,
              "#7201a8"
             ],
             [
              0.3333333333333333,
              "#9c179e"
             ],
             [
              0.4444444444444444,
              "#bd3786"
             ],
             [
              0.5555555555555556,
              "#d8576b"
             ],
             [
              0.6666666666666666,
              "#ed7953"
             ],
             [
              0.7777777777777778,
              "#fb9f3a"
             ],
             [
              0.8888888888888888,
              "#fdca26"
             ],
             [
              1,
              "#f0f921"
             ]
            ],
            "type": "histogram2d"
           }
          ],
          "histogram2dcontour": [
           {
            "colorbar": {
             "outlinewidth": 0,
             "ticks": ""
            },
            "colorscale": [
             [
              0,
              "#0d0887"
             ],
             [
              0.1111111111111111,
              "#46039f"
             ],
             [
              0.2222222222222222,
              "#7201a8"
             ],
             [
              0.3333333333333333,
              "#9c179e"
             ],
             [
              0.4444444444444444,
              "#bd3786"
             ],
             [
              0.5555555555555556,
              "#d8576b"
             ],
             [
              0.6666666666666666,
              "#ed7953"
             ],
             [
              0.7777777777777778,
              "#fb9f3a"
             ],
             [
              0.8888888888888888,
              "#fdca26"
             ],
             [
              1,
              "#f0f921"
             ]
            ],
            "type": "histogram2dcontour"
           }
          ],
          "mesh3d": [
           {
            "colorbar": {
             "outlinewidth": 0,
             "ticks": ""
            },
            "type": "mesh3d"
           }
          ],
          "parcoords": [
           {
            "line": {
             "colorbar": {
              "outlinewidth": 0,
              "ticks": ""
             }
            },
            "type": "parcoords"
           }
          ],
          "pie": [
           {
            "automargin": true,
            "type": "pie"
           }
          ],
          "scatter": [
           {
            "marker": {
             "colorbar": {
              "outlinewidth": 0,
              "ticks": ""
             }
            },
            "type": "scatter"
           }
          ],
          "scatter3d": [
           {
            "line": {
             "colorbar": {
              "outlinewidth": 0,
              "ticks": ""
             }
            },
            "marker": {
             "colorbar": {
              "outlinewidth": 0,
              "ticks": ""
             }
            },
            "type": "scatter3d"
           }
          ],
          "scattercarpet": [
           {
            "marker": {
             "colorbar": {
              "outlinewidth": 0,
              "ticks": ""
             }
            },
            "type": "scattercarpet"
           }
          ],
          "scattergeo": [
           {
            "marker": {
             "colorbar": {
              "outlinewidth": 0,
              "ticks": ""
             }
            },
            "type": "scattergeo"
           }
          ],
          "scattergl": [
           {
            "marker": {
             "colorbar": {
              "outlinewidth": 0,
              "ticks": ""
             }
            },
            "type": "scattergl"
           }
          ],
          "scattermapbox": [
           {
            "marker": {
             "colorbar": {
              "outlinewidth": 0,
              "ticks": ""
             }
            },
            "type": "scattermapbox"
           }
          ],
          "scatterpolar": [
           {
            "marker": {
             "colorbar": {
              "outlinewidth": 0,
              "ticks": ""
             }
            },
            "type": "scatterpolar"
           }
          ],
          "scatterpolargl": [
           {
            "marker": {
             "colorbar": {
              "outlinewidth": 0,
              "ticks": ""
             }
            },
            "type": "scatterpolargl"
           }
          ],
          "scatterternary": [
           {
            "marker": {
             "colorbar": {
              "outlinewidth": 0,
              "ticks": ""
             }
            },
            "type": "scatterternary"
           }
          ],
          "surface": [
           {
            "colorbar": {
             "outlinewidth": 0,
             "ticks": ""
            },
            "colorscale": [
             [
              0,
              "#0d0887"
             ],
             [
              0.1111111111111111,
              "#46039f"
             ],
             [
              0.2222222222222222,
              "#7201a8"
             ],
             [
              0.3333333333333333,
              "#9c179e"
             ],
             [
              0.4444444444444444,
              "#bd3786"
             ],
             [
              0.5555555555555556,
              "#d8576b"
             ],
             [
              0.6666666666666666,
              "#ed7953"
             ],
             [
              0.7777777777777778,
              "#fb9f3a"
             ],
             [
              0.8888888888888888,
              "#fdca26"
             ],
             [
              1,
              "#f0f921"
             ]
            ],
            "type": "surface"
           }
          ],
          "table": [
           {
            "cells": {
             "fill": {
              "color": "#EBF0F8"
             },
             "line": {
              "color": "white"
             }
            },
            "header": {
             "fill": {
              "color": "#C8D4E3"
             },
             "line": {
              "color": "white"
             }
            },
            "type": "table"
           }
          ]
         },
         "layout": {
          "annotationdefaults": {
           "arrowcolor": "#2a3f5f",
           "arrowhead": 0,
           "arrowwidth": 1
          },
          "coloraxis": {
           "colorbar": {
            "outlinewidth": 0,
            "ticks": ""
           }
          },
          "colorscale": {
           "diverging": [
            [
             0,
             "#8e0152"
            ],
            [
             0.1,
             "#c51b7d"
            ],
            [
             0.2,
             "#de77ae"
            ],
            [
             0.3,
             "#f1b6da"
            ],
            [
             0.4,
             "#fde0ef"
            ],
            [
             0.5,
             "#f7f7f7"
            ],
            [
             0.6,
             "#e6f5d0"
            ],
            [
             0.7,
             "#b8e186"
            ],
            [
             0.8,
             "#7fbc41"
            ],
            [
             0.9,
             "#4d9221"
            ],
            [
             1,
             "#276419"
            ]
           ],
           "sequential": [
            [
             0,
             "#0d0887"
            ],
            [
             0.1111111111111111,
             "#46039f"
            ],
            [
             0.2222222222222222,
             "#7201a8"
            ],
            [
             0.3333333333333333,
             "#9c179e"
            ],
            [
             0.4444444444444444,
             "#bd3786"
            ],
            [
             0.5555555555555556,
             "#d8576b"
            ],
            [
             0.6666666666666666,
             "#ed7953"
            ],
            [
             0.7777777777777778,
             "#fb9f3a"
            ],
            [
             0.8888888888888888,
             "#fdca26"
            ],
            [
             1,
             "#f0f921"
            ]
           ],
           "sequentialminus": [
            [
             0,
             "#0d0887"
            ],
            [
             0.1111111111111111,
             "#46039f"
            ],
            [
             0.2222222222222222,
             "#7201a8"
            ],
            [
             0.3333333333333333,
             "#9c179e"
            ],
            [
             0.4444444444444444,
             "#bd3786"
            ],
            [
             0.5555555555555556,
             "#d8576b"
            ],
            [
             0.6666666666666666,
             "#ed7953"
            ],
            [
             0.7777777777777778,
             "#fb9f3a"
            ],
            [
             0.8888888888888888,
             "#fdca26"
            ],
            [
             1,
             "#f0f921"
            ]
           ]
          },
          "colorway": [
           "#636efa",
           "#EF553B",
           "#00cc96",
           "#ab63fa",
           "#FFA15A",
           "#19d3f3",
           "#FF6692",
           "#B6E880",
           "#FF97FF",
           "#FECB52"
          ],
          "font": {
           "color": "#2a3f5f"
          },
          "geo": {
           "bgcolor": "white",
           "lakecolor": "white",
           "landcolor": "white",
           "showlakes": true,
           "showland": true,
           "subunitcolor": "#C8D4E3"
          },
          "hoverlabel": {
           "align": "left"
          },
          "hovermode": "closest",
          "mapbox": {
           "style": "light"
          },
          "paper_bgcolor": "white",
          "plot_bgcolor": "white",
          "polar": {
           "angularaxis": {
            "gridcolor": "#EBF0F8",
            "linecolor": "#EBF0F8",
            "ticks": ""
           },
           "bgcolor": "white",
           "radialaxis": {
            "gridcolor": "#EBF0F8",
            "linecolor": "#EBF0F8",
            "ticks": ""
           }
          },
          "scene": {
           "xaxis": {
            "backgroundcolor": "white",
            "gridcolor": "#DFE8F3",
            "gridwidth": 2,
            "linecolor": "#EBF0F8",
            "showbackground": true,
            "ticks": "",
            "zerolinecolor": "#EBF0F8"
           },
           "yaxis": {
            "backgroundcolor": "white",
            "gridcolor": "#DFE8F3",
            "gridwidth": 2,
            "linecolor": "#EBF0F8",
            "showbackground": true,
            "ticks": "",
            "zerolinecolor": "#EBF0F8"
           },
           "zaxis": {
            "backgroundcolor": "white",
            "gridcolor": "#DFE8F3",
            "gridwidth": 2,
            "linecolor": "#EBF0F8",
            "showbackground": true,
            "ticks": "",
            "zerolinecolor": "#EBF0F8"
           }
          },
          "shapedefaults": {
           "line": {
            "color": "#2a3f5f"
           }
          },
          "ternary": {
           "aaxis": {
            "gridcolor": "#DFE8F3",
            "linecolor": "#A2B1C6",
            "ticks": ""
           },
           "baxis": {
            "gridcolor": "#DFE8F3",
            "linecolor": "#A2B1C6",
            "ticks": ""
           },
           "bgcolor": "white",
           "caxis": {
            "gridcolor": "#DFE8F3",
            "linecolor": "#A2B1C6",
            "ticks": ""
           }
          },
          "title": {
           "x": 0.05
          },
          "xaxis": {
           "automargin": true,
           "gridcolor": "#EBF0F8",
           "linecolor": "#EBF0F8",
           "ticks": "",
           "title": {
            "standoff": 15
           },
           "zerolinecolor": "#EBF0F8",
           "zerolinewidth": 2
          },
          "yaxis": {
           "automargin": true,
           "gridcolor": "#EBF0F8",
           "linecolor": "#EBF0F8",
           "ticks": "",
           "title": {
            "standoff": 15
           },
           "zerolinecolor": "#EBF0F8",
           "zerolinewidth": 2
          }
         }
        },
        "width": 400,
        "xaxis": {
         "anchor": "y",
         "domain": [
          0,
          1
         ],
         "linecolor": "black",
         "linewidth": 1,
         "nticks": 7,
         "showline": true,
         "showticklabels": true,
         "tickfont": {
          "color": "black",
          "size": 12
         },
         "ticks": "inside",
         "tickwidth": 1,
         "title": {
          "font": {
           "color": "black",
           "size": 14
          },
          "text": "Dp (nm)"
         },
         "type": "log"
        },
        "yaxis": {
         "anchor": "x",
         "domain": [
          0,
          1
         ],
         "linecolor": "black",
         "linewidth": 1,
         "nticks": 7,
         "range": [
          -1,
          3
         ],
         "showline": true,
         "tickfont": {
          "color": "black",
          "size": 14
         },
         "ticks": "inside",
         "tickwidth": 1,
         "title": {
          "font": {
           "color": "black",
           "size": 16
          },
          "text": "dA/dLogDp (μm<sup>2</sup>/cm<sup>3</sup>)"
         },
         "type": "log"
        }
       }
      }
     },
     "metadata": {}
    }
   ],
   "source": [
    "fig4.update_layout(height=400, width=400)"
   ]
  },
  {
   "source": [
    "<div class=\"alert alert-block alert-info\" style=\"outline-style: solid;\">\n",
    "<h3>3.1.3 Normalize INP Data </h3>\n",
    "</div>"
   ],
   "cell_type": "markdown",
   "metadata": {}
  },
  {
   "source": [
    "See the Pyce Tools manual for deeper explanation of the code below. Basically, we use create an INP object which consists of some INP data and corresponding biology data. We then use the surface area distribution we calculated above to calculate surface area normalized concentration."
   ],
   "cell_type": "markdown",
   "metadata": {}
  },
  {
   "cell_type": "code",
   "execution_count": 52,
   "metadata": {},
   "outputs": [
    {
     "output_type": "stream",
     "name": "stdout",
     "text": [
      "done\n"
     ]
    }
   ],
   "source": [
    "some_bio_dataframe = pd.DataFrame(columns=['location'])\n",
    "some_other_bio_dataframe = pd.DataFrame(columns=['location'])\n",
    "\n",
    "inp_bubbler = pt.inp(inp_type='aerosol', inp_location='bubbler', cyto_location='n/a', cyto_data=some_bio_dataframe, uway_bio_data=some_other_bio_dataframe, inp_data=bubbler_df)\n",
    "\n",
    "inp_bubbler.sa_normalize(dA_total)"
   ]
  },
  {
   "cell_type": "code",
   "execution_count": 53,
   "metadata": {},
   "outputs": [
    {
     "output_type": "display_data",
     "data": {
      "application/vnd.plotly.v1+json": {
       "config": {
        "plotlyServerURL": "https://plot.ly"
       },
       "data": [
        {
         "marker": {
          "color": "blue",
          "line": {
           "color": "black",
           "width": 1
          },
          "size": 7
         },
         "mode": "markers",
         "name": "Unheated",
         "type": "scatter",
         "x": [
          "-18.0",
          "-17.9",
          "-17.8",
          "-17.7",
          "-17.6",
          "-17.5",
          "-17.4",
          "-17.3",
          "-17.2",
          "-17.1",
          "-17.0",
          "-16.9",
          "-16.8",
          "-16.7",
          "-16.6",
          "-16.5",
          "-16.4",
          "-16.3",
          "-16.2",
          "-16.1",
          "-16.0",
          "-15.9",
          "-15.8",
          "-15.7",
          "-15.6",
          "-15.5",
          "-15.4",
          "-15.3",
          "-15.2",
          "-15.1",
          "-15.0",
          "-14.9",
          "-14.8",
          "-14.7",
          "-14.6",
          "-14.5",
          "-14.4",
          "-14.3",
          "-14.2",
          "-14.1",
          "-14.0",
          "-13.9",
          "-13.8",
          "-13.7",
          "-13.6",
          "-13.5",
          "-13.4",
          "-13.3",
          "-13.2",
          "-13.1",
          "-13.0",
          "-12.9",
          "-12.8",
          "-12.7",
          "-12.6",
          "-12.5",
          "-12.4",
          "-12.3",
          "-12.2",
          "-12.1",
          "-12.0",
          "-11.9",
          "-11.8",
          "-11.7",
          "-11.6",
          "-11.5",
          "-11.4",
          "-11.3",
          "-11.2",
          "-11.1",
          "-11.0",
          "-10.9",
          "-10.8",
          "-10.7",
          "-10.6",
          "-10.5",
          "-10.4",
          "-10.3",
          "-10.2",
          "-10.1",
          "-10.0",
          "-9.9",
          "-9.8",
          "-9.7",
          "-9.6",
          "-9.5",
          "-9.4",
          "-9.3",
          "-9.2",
          "-9.1",
          "-9.0",
          "-8.9",
          "-8.8",
          "-8.7",
          "-8.6",
          "-8.5",
          "-8.4",
          "-8.3",
          "-8.2",
          "-8.1",
          "-8.0",
          "-7.9",
          "-7.8",
          "-7.7",
          "-7.6",
          "-7.5",
          "-7.4",
          "-7.3",
          "-7.2",
          "-7.1",
          "-7.0",
          "-6.9",
          "-6.8",
          "-6.7",
          "-6.6",
          "-6.5",
          "-6.4",
          "-6.3",
          "-6.2",
          "-6.1",
          "-6.0",
          "-5.9",
          "-5.8",
          "-5.7",
          "-5.6",
          "-5.5",
          "-5.4",
          "-5.3",
          "-5.2",
          "-5.1",
          "-5.0",
          "-4.9",
          "-4.8",
          "-4.7",
          "-4.6",
          "-4.5",
          "-4.4",
          "-4.3",
          "-4.2",
          "-4.1",
          "-4.0",
          "-3.9",
          "-3.8",
          "-3.7",
          "-3.6",
          "-3.5",
          "-3.4",
          "-3.3",
          "-3.2",
          "-3.1",
          "-3.0",
          "-2.9",
          "-2.8",
          "-2.7",
          "-2.6",
          "-2.5",
          "-2.4",
          "-2.3",
          "-2.2",
          "-2.1",
          "-2.0",
          "-1.9",
          "-1.8",
          "-1.7",
          "-1.6",
          "-1.5",
          "-1.4",
          "-1.3",
          "-1.2",
          "-1.1",
          "-1.0"
         ],
         "y": [
          3.649635340284202,
          2.953246824548796,
          2.6475187286922477,
          1.854427272098461,
          1.854427272098461,
          1.854427272098461,
          1.6228677618235505,
          1.6228677618235505,
          1.6228677618235505,
          1.6228677618235505,
          1.404547648306882,
          1.404547648306882,
          1.1980345368984695,
          1.1980345368984695,
          1.0021166115919538,
          1.0021166115919538,
          1.0021166115919538,
          0.638073457202822,
          0.46828718780677175,
          0.46828718780677175,
          0.30572809585654703,
          0.30572809585654703,
          0.30572809585654703,
          0.30572809585654703,
          0.30572809585654703,
          0.30572809585654703,
          0.30572809585654703,
          0.30572809585654703,
          0.30572809585654703,
          0.30572809585654703,
          0.30572809585654703,
          0.30572809585654703,
          0.30572809585654703,
          0.14980595108544686,
          0.14980595108544686,
          0.14980595108544686,
          0.14980595108544686,
          0.14980595108544686,
          0,
          0,
          0,
          0,
          0,
          0,
          0,
          0,
          0,
          0,
          0,
          0,
          0,
          0,
          0,
          0,
          0,
          0,
          0,
          0,
          0,
          0,
          0,
          0,
          0,
          0,
          0,
          0,
          0,
          0,
          0,
          0,
          0,
          0,
          0,
          0,
          0,
          0,
          0,
          0,
          0,
          0,
          0,
          0,
          0,
          0,
          0,
          0,
          0,
          0,
          0,
          0,
          0,
          0,
          0,
          0,
          0,
          0,
          0,
          0,
          0,
          0,
          0,
          0,
          0,
          0,
          0,
          0,
          0,
          0,
          0,
          0,
          0,
          0,
          0,
          0,
          0,
          0,
          0,
          0,
          0,
          0,
          0,
          0,
          0,
          0,
          0,
          0,
          0,
          0,
          0,
          0,
          0,
          0,
          0,
          0,
          0,
          0,
          0,
          0,
          0,
          0,
          0,
          0,
          0,
          0,
          0,
          0,
          0,
          0,
          0,
          0,
          0,
          0,
          0,
          0,
          0,
          0,
          0,
          0,
          0,
          0,
          0,
          0,
          0,
          0,
          0,
          0,
          0,
          0,
          0,
          0,
          0
         ]
        },
        {
         "marker": {
          "color": "red",
          "line": {
           "color": "black",
           "width": 1
          },
          "size": 7
         },
         "mode": "markers",
         "name": "Heated",
         "type": "scatter",
         "x": [
          "-18.0",
          "-17.9",
          "-17.8",
          "-17.7",
          "-17.6",
          "-17.5",
          "-17.4",
          "-17.3",
          "-17.2",
          "-17.1",
          "-17.0",
          "-16.9",
          "-16.8",
          "-16.7",
          "-16.6",
          "-16.5",
          "-16.4",
          "-16.3",
          "-16.2",
          "-16.1",
          "-16.0",
          "-15.9",
          "-15.8",
          "-15.7",
          "-15.6",
          "-15.5",
          "-15.4",
          "-15.3",
          "-15.2",
          "-15.1",
          "-15.0",
          "-14.9",
          "-14.8",
          "-14.7",
          "-14.6",
          "-14.5",
          "-14.4",
          "-14.3",
          "-14.2",
          "-14.1",
          "-14.0",
          "-13.9",
          "-13.8",
          "-13.7",
          "-13.6",
          "-13.5",
          "-13.4",
          "-13.3",
          "-13.2",
          "-13.1",
          "-13.0",
          "-12.9",
          "-12.8",
          "-12.7",
          "-12.6",
          "-12.5",
          "-12.4",
          "-12.3",
          "-12.2",
          "-12.1",
          "-12.0",
          "-11.9",
          "-11.8",
          "-11.7",
          "-11.6",
          "-11.5",
          "-11.4",
          "-11.3",
          "-11.2",
          "-11.1",
          "-11.0",
          "-10.9",
          "-10.8",
          "-10.7",
          "-10.6",
          "-10.5",
          "-10.4",
          "-10.3",
          "-10.2",
          "-10.1",
          "-10.0",
          "-9.9",
          "-9.8",
          "-9.7",
          "-9.6",
          "-9.5",
          "-9.4",
          "-9.3",
          "-9.2",
          "-9.1",
          "-9.0",
          "-8.9",
          "-8.8",
          "-8.7",
          "-8.6",
          "-8.5",
          "-8.4",
          "-8.3",
          "-8.2",
          "-8.1",
          "-8.0",
          "-7.9",
          "-7.8",
          "-7.7",
          "-7.6",
          "-7.5",
          "-7.4",
          "-7.3",
          "-7.2",
          "-7.1",
          "-7.0",
          "-6.9",
          "-6.8",
          "-6.7",
          "-6.6",
          "-6.5",
          "-6.4",
          "-6.3",
          "-6.2",
          "-6.1",
          "-6.0",
          "-5.9",
          "-5.8",
          "-5.7",
          "-5.6",
          "-5.5",
          "-5.4",
          "-5.3",
          "-5.2",
          "-5.1",
          "-5.0",
          "-4.9",
          "-4.8",
          "-4.7",
          "-4.6",
          "-4.5",
          "-4.4",
          "-4.3",
          "-4.2",
          "-4.1",
          "-4.0",
          "-3.9",
          "-3.8",
          "-3.7",
          "-3.6",
          "-3.5",
          "-3.4",
          "-3.3",
          "-3.2",
          "-3.1",
          "-3.0",
          "-2.9",
          "-2.8",
          "-2.7",
          "-2.6",
          "-2.5",
          "-2.4",
          "-2.3",
          "-2.2",
          "-2.1",
          "-2.0",
          "-1.9",
          "-1.8",
          "-1.7",
          "-1.6",
          "-1.5",
          "-1.4",
          "-1.3",
          "-1.2",
          "-1.1",
          "-1.0"
         ],
         "y": [
          null,
          null,
          null,
          null,
          null,
          null,
          null,
          null,
          null,
          null,
          null,
          null,
          null,
          null,
          9.796983458175207,
          9.796983458175207,
          8.24828428193329,
          8.24828428193329,
          8.24828428193329,
          7.149464729482957,
          7.149464729482957,
          6.29715406897645,
          5.600765553241045,
          5.600765553241045,
          5.011977452633581,
          4.501946000790709,
          4.0520663769991305,
          3.28559218589507,
          3.28559218589507,
          2.953246824548796,
          2.6475187286922477,
          1.854427272098461,
          1.6228677618235505,
          1.404547648306882,
          0.8157595476994183,
          0.638073457202822,
          0.46828718780677175,
          0.46828718780677175,
          0.46828718780677175,
          0.14980595108544686,
          0.14980595108544686,
          0.14980595108544686,
          0.14980595108544686,
          0.14980595108544686,
          0.14980595108544686,
          0.14980595108544686,
          0.14980595108544686,
          0,
          0,
          0,
          0,
          0,
          0,
          0,
          0,
          0,
          0,
          0,
          0,
          0,
          0,
          0,
          0,
          0,
          0,
          0,
          0,
          0,
          0,
          0,
          0,
          0,
          0,
          0,
          0,
          0,
          0,
          0,
          0,
          0,
          0,
          0,
          0,
          0,
          0,
          0,
          0,
          0,
          0,
          0,
          0,
          0,
          0,
          0,
          0,
          0,
          0,
          0,
          0,
          0,
          0,
          0,
          0,
          0,
          0,
          0,
          0,
          0,
          0,
          0,
          0,
          0,
          0,
          0,
          0,
          0,
          0,
          0,
          0,
          0,
          0,
          0,
          0,
          0,
          0,
          0,
          0,
          0,
          0,
          0,
          0,
          0,
          0,
          0,
          0,
          0,
          0,
          0,
          0,
          0,
          0,
          0,
          0,
          0,
          0,
          0,
          0,
          0,
          0,
          0,
          0,
          0,
          0,
          0,
          0,
          0,
          0,
          0,
          0,
          0,
          0,
          0,
          0,
          0,
          0,
          0,
          0,
          0,
          0,
          0,
          0
         ]
        },
        {
         "connectgaps": true,
         "line": {
          "color": "tomato",
          "width": 1.5
         },
         "mode": "lines",
         "name": "DeMott et al. (2016) Caribbean, Arctic, Pacific, Bering Sea - Ambient",
         "type": "scatter",
         "x": [
          -13,
          -25,
          -15,
          -13
         ],
         "y": [
          1,
          900,
          20,
          1
         ]
        },
        {
         "connectgaps": true,
         "mode": "lines",
         "name": "DeMott et al. (2016) SIO Pier seawater - Waveflume/MART",
         "type": "scatter",
         "x": [
          -15,
          -25,
          -23,
          -13,
          -15
         ],
         "y": [
          0.2,
          40,
          100,
          1,
          0.2
         ]
        },
        {
         "connectgaps": true,
         "line": {
          "color": "deepskyblue",
          "width": 1.5
         },
         "mode": "lines",
         "name": "McCluskey et al. (2017) SIO Pier seawater - Waveflume",
         "type": "scatter",
         "x": [
          -10,
          -23,
          -30,
          -30,
          -10,
          -10
         ],
         "y": [
          1.5,
          20,
          300,
          500,
          70,
          1.5
         ]
        },
        {
         "connectgaps": true,
         "line": {
          "color": "darkgoldenrod",
          "width": 1.5
         },
         "mode": "lines",
         "name": "McCluskey et al. (2018b) Southern Ocean - Ambient",
         "type": "scatter",
         "x": [
          -12,
          -18,
          -26,
          -26,
          -12
         ],
         "y": [
          0.4,
          0.2,
          100,
          8000,
          0.4
         ]
        },
        {
         "connectgaps": true,
         "line": {
          "color": "seagreen",
          "width": 1.5
         },
         "mode": "lines",
         "name": "Gong et al. (2020) Cabo Verde - Ambient",
         "type": "scatter",
         "x": [
          -10,
          -11,
          -20,
          -19,
          -10
         ],
         "y": [
          2,
          0.3,
          12,
          100,
          2
         ]
        }
       ],
       "layout": {
        "height": 600,
        "legend": {
         "bordercolor": "black",
         "borderwidth": 1,
         "font": {
          "color": "black",
          "size": 10
         },
         "title": {
          "text": ""
         },
         "x": 0.2,
         "y": 1.2
        },
        "showlegend": true,
        "template": {
         "data": {
          "bar": [
           {
            "error_x": {
             "color": "#2a3f5f"
            },
            "error_y": {
             "color": "#2a3f5f"
            },
            "marker": {
             "line": {
              "color": "white",
              "width": 0.5
             }
            },
            "type": "bar"
           }
          ],
          "barpolar": [
           {
            "marker": {
             "line": {
              "color": "white",
              "width": 0.5
             }
            },
            "type": "barpolar"
           }
          ],
          "carpet": [
           {
            "aaxis": {
             "endlinecolor": "#2a3f5f",
             "gridcolor": "#C8D4E3",
             "linecolor": "#C8D4E3",
             "minorgridcolor": "#C8D4E3",
             "startlinecolor": "#2a3f5f"
            },
            "baxis": {
             "endlinecolor": "#2a3f5f",
             "gridcolor": "#C8D4E3",
             "linecolor": "#C8D4E3",
             "minorgridcolor": "#C8D4E3",
             "startlinecolor": "#2a3f5f"
            },
            "type": "carpet"
           }
          ],
          "choropleth": [
           {
            "colorbar": {
             "outlinewidth": 0,
             "ticks": ""
            },
            "type": "choropleth"
           }
          ],
          "contour": [
           {
            "colorbar": {
             "outlinewidth": 0,
             "ticks": ""
            },
            "colorscale": [
             [
              0,
              "#0d0887"
             ],
             [
              0.1111111111111111,
              "#46039f"
             ],
             [
              0.2222222222222222,
              "#7201a8"
             ],
             [
              0.3333333333333333,
              "#9c179e"
             ],
             [
              0.4444444444444444,
              "#bd3786"
             ],
             [
              0.5555555555555556,
              "#d8576b"
             ],
             [
              0.6666666666666666,
              "#ed7953"
             ],
             [
              0.7777777777777778,
              "#fb9f3a"
             ],
             [
              0.8888888888888888,
              "#fdca26"
             ],
             [
              1,
              "#f0f921"
             ]
            ],
            "type": "contour"
           }
          ],
          "contourcarpet": [
           {
            "colorbar": {
             "outlinewidth": 0,
             "ticks": ""
            },
            "type": "contourcarpet"
           }
          ],
          "heatmap": [
           {
            "colorbar": {
             "outlinewidth": 0,
             "ticks": ""
            },
            "colorscale": [
             [
              0,
              "#0d0887"
             ],
             [
              0.1111111111111111,
              "#46039f"
             ],
             [
              0.2222222222222222,
              "#7201a8"
             ],
             [
              0.3333333333333333,
              "#9c179e"
             ],
             [
              0.4444444444444444,
              "#bd3786"
             ],
             [
              0.5555555555555556,
              "#d8576b"
             ],
             [
              0.6666666666666666,
              "#ed7953"
             ],
             [
              0.7777777777777778,
              "#fb9f3a"
             ],
             [
              0.8888888888888888,
              "#fdca26"
             ],
             [
              1,
              "#f0f921"
             ]
            ],
            "type": "heatmap"
           }
          ],
          "heatmapgl": [
           {
            "colorbar": {
             "outlinewidth": 0,
             "ticks": ""
            },
            "colorscale": [
             [
              0,
              "#0d0887"
             ],
             [
              0.1111111111111111,
              "#46039f"
             ],
             [
              0.2222222222222222,
              "#7201a8"
             ],
             [
              0.3333333333333333,
              "#9c179e"
             ],
             [
              0.4444444444444444,
              "#bd3786"
             ],
             [
              0.5555555555555556,
              "#d8576b"
             ],
             [
              0.6666666666666666,
              "#ed7953"
             ],
             [
              0.7777777777777778,
              "#fb9f3a"
             ],
             [
              0.8888888888888888,
              "#fdca26"
             ],
             [
              1,
              "#f0f921"
             ]
            ],
            "type": "heatmapgl"
           }
          ],
          "histogram": [
           {
            "marker": {
             "colorbar": {
              "outlinewidth": 0,
              "ticks": ""
             }
            },
            "type": "histogram"
           }
          ],
          "histogram2d": [
           {
            "colorbar": {
             "outlinewidth": 0,
             "ticks": ""
            },
            "colorscale": [
             [
              0,
              "#0d0887"
             ],
             [
              0.1111111111111111,
              "#46039f"
             ],
             [
              0.2222222222222222,
              "#7201a8"
             ],
             [
              0.3333333333333333,
              "#9c179e"
             ],
             [
              0.4444444444444444,
              "#bd3786"
             ],
             [
              0.5555555555555556,
              "#d8576b"
             ],
             [
              0.6666666666666666,
              "#ed7953"
             ],
             [
              0.7777777777777778,
              "#fb9f3a"
             ],
             [
              0.8888888888888888,
              "#fdca26"
             ],
             [
              1,
              "#f0f921"
             ]
            ],
            "type": "histogram2d"
           }
          ],
          "histogram2dcontour": [
           {
            "colorbar": {
             "outlinewidth": 0,
             "ticks": ""
            },
            "colorscale": [
             [
              0,
              "#0d0887"
             ],
             [
              0.1111111111111111,
              "#46039f"
             ],
             [
              0.2222222222222222,
              "#7201a8"
             ],
             [
              0.3333333333333333,
              "#9c179e"
             ],
             [
              0.4444444444444444,
              "#bd3786"
             ],
             [
              0.5555555555555556,
              "#d8576b"
             ],
             [
              0.6666666666666666,
              "#ed7953"
             ],
             [
              0.7777777777777778,
              "#fb9f3a"
             ],
             [
              0.8888888888888888,
              "#fdca26"
             ],
             [
              1,
              "#f0f921"
             ]
            ],
            "type": "histogram2dcontour"
           }
          ],
          "mesh3d": [
           {
            "colorbar": {
             "outlinewidth": 0,
             "ticks": ""
            },
            "type": "mesh3d"
           }
          ],
          "parcoords": [
           {
            "line": {
             "colorbar": {
              "outlinewidth": 0,
              "ticks": ""
             }
            },
            "type": "parcoords"
           }
          ],
          "pie": [
           {
            "automargin": true,
            "type": "pie"
           }
          ],
          "scatter": [
           {
            "marker": {
             "colorbar": {
              "outlinewidth": 0,
              "ticks": ""
             }
            },
            "type": "scatter"
           }
          ],
          "scatter3d": [
           {
            "line": {
             "colorbar": {
              "outlinewidth": 0,
              "ticks": ""
             }
            },
            "marker": {
             "colorbar": {
              "outlinewidth": 0,
              "ticks": ""
             }
            },
            "type": "scatter3d"
           }
          ],
          "scattercarpet": [
           {
            "marker": {
             "colorbar": {
              "outlinewidth": 0,
              "ticks": ""
             }
            },
            "type": "scattercarpet"
           }
          ],
          "scattergeo": [
           {
            "marker": {
             "colorbar": {
              "outlinewidth": 0,
              "ticks": ""
             }
            },
            "type": "scattergeo"
           }
          ],
          "scattergl": [
           {
            "marker": {
             "colorbar": {
              "outlinewidth": 0,
              "ticks": ""
             }
            },
            "type": "scattergl"
           }
          ],
          "scattermapbox": [
           {
            "marker": {
             "colorbar": {
              "outlinewidth": 0,
              "ticks": ""
             }
            },
            "type": "scattermapbox"
           }
          ],
          "scatterpolar": [
           {
            "marker": {
             "colorbar": {
              "outlinewidth": 0,
              "ticks": ""
             }
            },
            "type": "scatterpolar"
           }
          ],
          "scatterpolargl": [
           {
            "marker": {
             "colorbar": {
              "outlinewidth": 0,
              "ticks": ""
             }
            },
            "type": "scatterpolargl"
           }
          ],
          "scatterternary": [
           {
            "marker": {
             "colorbar": {
              "outlinewidth": 0,
              "ticks": ""
             }
            },
            "type": "scatterternary"
           }
          ],
          "surface": [
           {
            "colorbar": {
             "outlinewidth": 0,
             "ticks": ""
            },
            "colorscale": [
             [
              0,
              "#0d0887"
             ],
             [
              0.1111111111111111,
              "#46039f"
             ],
             [
              0.2222222222222222,
              "#7201a8"
             ],
             [
              0.3333333333333333,
              "#9c179e"
             ],
             [
              0.4444444444444444,
              "#bd3786"
             ],
             [
              0.5555555555555556,
              "#d8576b"
             ],
             [
              0.6666666666666666,
              "#ed7953"
             ],
             [
              0.7777777777777778,
              "#fb9f3a"
             ],
             [
              0.8888888888888888,
              "#fdca26"
             ],
             [
              1,
              "#f0f921"
             ]
            ],
            "type": "surface"
           }
          ],
          "table": [
           {
            "cells": {
             "fill": {
              "color": "#EBF0F8"
             },
             "line": {
              "color": "white"
             }
            },
            "header": {
             "fill": {
              "color": "#C8D4E3"
             },
             "line": {
              "color": "white"
             }
            },
            "type": "table"
           }
          ]
         },
         "layout": {
          "annotationdefaults": {
           "arrowcolor": "#2a3f5f",
           "arrowhead": 0,
           "arrowwidth": 1
          },
          "coloraxis": {
           "colorbar": {
            "outlinewidth": 0,
            "ticks": ""
           }
          },
          "colorscale": {
           "diverging": [
            [
             0,
             "#8e0152"
            ],
            [
             0.1,
             "#c51b7d"
            ],
            [
             0.2,
             "#de77ae"
            ],
            [
             0.3,
             "#f1b6da"
            ],
            [
             0.4,
             "#fde0ef"
            ],
            [
             0.5,
             "#f7f7f7"
            ],
            [
             0.6,
             "#e6f5d0"
            ],
            [
             0.7,
             "#b8e186"
            ],
            [
             0.8,
             "#7fbc41"
            ],
            [
             0.9,
             "#4d9221"
            ],
            [
             1,
             "#276419"
            ]
           ],
           "sequential": [
            [
             0,
             "#0d0887"
            ],
            [
             0.1111111111111111,
             "#46039f"
            ],
            [
             0.2222222222222222,
             "#7201a8"
            ],
            [
             0.3333333333333333,
             "#9c179e"
            ],
            [
             0.4444444444444444,
             "#bd3786"
            ],
            [
             0.5555555555555556,
             "#d8576b"
            ],
            [
             0.6666666666666666,
             "#ed7953"
            ],
            [
             0.7777777777777778,
             "#fb9f3a"
            ],
            [
             0.8888888888888888,
             "#fdca26"
            ],
            [
             1,
             "#f0f921"
            ]
           ],
           "sequentialminus": [
            [
             0,
             "#0d0887"
            ],
            [
             0.1111111111111111,
             "#46039f"
            ],
            [
             0.2222222222222222,
             "#7201a8"
            ],
            [
             0.3333333333333333,
             "#9c179e"
            ],
            [
             0.4444444444444444,
             "#bd3786"
            ],
            [
             0.5555555555555556,
             "#d8576b"
            ],
            [
             0.6666666666666666,
             "#ed7953"
            ],
            [
             0.7777777777777778,
             "#fb9f3a"
            ],
            [
             0.8888888888888888,
             "#fdca26"
            ],
            [
             1,
             "#f0f921"
            ]
           ]
          },
          "colorway": [
           "#636efa",
           "#EF553B",
           "#00cc96",
           "#ab63fa",
           "#FFA15A",
           "#19d3f3",
           "#FF6692",
           "#B6E880",
           "#FF97FF",
           "#FECB52"
          ],
          "font": {
           "color": "#2a3f5f"
          },
          "geo": {
           "bgcolor": "white",
           "lakecolor": "white",
           "landcolor": "white",
           "showlakes": true,
           "showland": true,
           "subunitcolor": "#C8D4E3"
          },
          "hoverlabel": {
           "align": "left"
          },
          "hovermode": "closest",
          "mapbox": {
           "style": "light"
          },
          "paper_bgcolor": "white",
          "plot_bgcolor": "white",
          "polar": {
           "angularaxis": {
            "gridcolor": "#EBF0F8",
            "linecolor": "#EBF0F8",
            "ticks": ""
           },
           "bgcolor": "white",
           "radialaxis": {
            "gridcolor": "#EBF0F8",
            "linecolor": "#EBF0F8",
            "ticks": ""
           }
          },
          "scene": {
           "xaxis": {
            "backgroundcolor": "white",
            "gridcolor": "#DFE8F3",
            "gridwidth": 2,
            "linecolor": "#EBF0F8",
            "showbackground": true,
            "ticks": "",
            "zerolinecolor": "#EBF0F8"
           },
           "yaxis": {
            "backgroundcolor": "white",
            "gridcolor": "#DFE8F3",
            "gridwidth": 2,
            "linecolor": "#EBF0F8",
            "showbackground": true,
            "ticks": "",
            "zerolinecolor": "#EBF0F8"
           },
           "zaxis": {
            "backgroundcolor": "white",
            "gridcolor": "#DFE8F3",
            "gridwidth": 2,
            "linecolor": "#EBF0F8",
            "showbackground": true,
            "ticks": "",
            "zerolinecolor": "#EBF0F8"
           }
          },
          "shapedefaults": {
           "line": {
            "color": "#2a3f5f"
           }
          },
          "ternary": {
           "aaxis": {
            "gridcolor": "#DFE8F3",
            "linecolor": "#A2B1C6",
            "ticks": ""
           },
           "baxis": {
            "gridcolor": "#DFE8F3",
            "linecolor": "#A2B1C6",
            "ticks": ""
           },
           "bgcolor": "white",
           "caxis": {
            "gridcolor": "#DFE8F3",
            "linecolor": "#A2B1C6",
            "ticks": ""
           }
          },
          "title": {
           "x": 0.05
          },
          "xaxis": {
           "automargin": true,
           "gridcolor": "#EBF0F8",
           "linecolor": "#EBF0F8",
           "ticks": "",
           "title": {
            "standoff": 15
           },
           "zerolinecolor": "#EBF0F8",
           "zerolinewidth": 2
          },
          "yaxis": {
           "automargin": true,
           "gridcolor": "#EBF0F8",
           "linecolor": "#EBF0F8",
           "ticks": "",
           "title": {
            "standoff": 15
           },
           "zerolinecolor": "#EBF0F8",
           "zerolinewidth": 2
          }
         }
        },
        "width": 700,
        "xaxis": {
         "exponentformat": "power",
         "linecolor": "black",
         "linewidth": 2,
         "range": [
          -30.5,
          -5
         ],
         "showline": true,
         "tickfont": {
          "size": 16
         },
         "ticklen": 10,
         "ticks": "inside",
         "tickwidth": 2,
         "title": {
          "font": {
           "size": 16
          },
          "text": "Temperature (°C)"
         }
        },
        "yaxis": {
         "exponentformat": "power",
         "linecolor": "black",
         "linewidth": 2,
         "showline": true,
         "tickfont": {
          "size": 16
         },
         "ticklen": 10,
         "ticks": "inside",
         "tickwidth": 2,
         "title": {
          "text": "INP per cm<sup>2</sup> of SSA Surface (D<sub>p</sub> = 10-5000nm)"
         },
         "type": "log"
        }
       }
      }
     },
     "metadata": {}
    }
   ],
   "source": [
    "fig2=inp_bubbler.plot_ins_inp()\n",
    "fig2.update_yaxes(type='log', title='INP per cm<sup>2</sup> of SSA Surface (D<sub>p</sub> = 10-5000nm)', exponentformat='power')"
   ]
  },
  {
   "source": [
    "<div class=\"alert alert-block alert-info\" style=\"outline-style: solid;\">\n",
    "<h2>3.2 Calculate Correlations </h2>\n",
    "</div>\n"
   ],
   "cell_type": "markdown",
   "metadata": {}
  },
  {
   "source": [
    "See the manual for detailed explanation on calculating correlations."
   ],
   "cell_type": "markdown",
   "metadata": {}
  },
  {
   "cell_type": "code",
   "execution_count": null,
   "metadata": {},
   "outputs": [],
   "source": [
    "inp_bubbler.inp.set_index('datetime',inplace=True)\n",
    "inp_bubbler.correlations(temps=temps,process='UH', inp_units='inp_sa_normalized', size='sub')\n",
    "inp_bubbler.correlations(temps=temps,process='H', inp_units='inp_sa_normalized', size='sub')"
   ]
  },
  {
   "cell_type": "code",
   "execution_count": null,
   "metadata": {},
   "outputs": [],
   "source": [
    "temp = '-17.5'\n",
    "inp_bubbler.results['UH'][temp]['corrs'].sort_values(by='p', ascending=True)[:10].style.set_caption(f\"Correlations with Unheated Bubbler INP {temp}\")"
   ]
  }
 ]
}